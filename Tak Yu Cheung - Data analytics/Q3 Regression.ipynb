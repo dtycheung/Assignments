{
 "cells": [
  {
   "cell_type": "markdown",
   "id": "e1959d7c",
   "metadata": {},
   "source": [
    "# Regression"
   ]
  },
  {
   "cell_type": "code",
   "execution_count": 62,
   "id": "b1a4ee3d",
   "metadata": {},
   "outputs": [],
   "source": [
    "import pandas as pd\n",
    "import numpy as np\n",
    "from sklearn.model_selection import train_test_split\n",
    "from sklearn.metrics import classification_report, accuracy_score\n",
    "from sklearn.model_selection import GridSearchCV\n",
    "\n",
    "df = pd.read_csv('D3.csv')  # Read the D3 dataset\n"
   ]
  },
  {
   "cell_type": "code",
   "execution_count": 63,
   "id": "89427348",
   "metadata": {},
   "outputs": [],
   "source": [
    "# One hot encoding non-ordinal categorical data\n",
    "df = pd.get_dummies(df, columns = ['Location', 'WindGustDir', 'WindDir9am', 'WindDir3pm'])  \n",
    "\n",
    "# target/input split\n",
    "y = df['RainTomorrow']\n",
    "X = df.drop(['RainTomorrow'], axis=1)\n",
    "\n",
    "# setting random state\n",
    "rs = 42\n",
    "\n",
    "X_mat = X.to_numpy()\n",
    "X_train, X_test, y_train, y_test = train_test_split(X_mat, y, test_size=0.3, stratify=y, random_state=rs)"
   ]
  },
  {
   "cell_type": "code",
   "execution_count": 64,
   "id": "65952ea9",
   "metadata": {},
   "outputs": [
    {
     "name": "stdout",
     "output_type": "stream",
     "text": [
      "<class 'pandas.core.frame.DataFrame'>\n",
      "RangeIndex: 142219 entries, 0 to 142218\n",
      "Columns: 116 entries, Year to WindDir3pm_WSW\n",
      "dtypes: float64(11), int64(8), uint8(97)\n",
      "memory usage: 33.8 MB\n"
     ]
    }
   ],
   "source": [
    "df.info()"
   ]
  },
  {
   "cell_type": "code",
   "execution_count": 65,
   "id": "33b1a5c8",
   "metadata": {},
   "outputs": [
    {
     "name": "stdout",
     "output_type": "stream",
     "text": [
      "Before scaling\n",
      "-------------\n",
      "Variable #0: min 2007.0, max 2017.0, mean 2012.76 and std dev 2.54\n",
      "Variable #1: min 1.0, max 12.0, mean 6.41 and std dev 3.43\n",
      "Variable #2: min -8.5, max 33.9, mean 12.18 and std dev 6.39\n",
      "Variable #3: min -4.8, max 48.1, mean 23.22 and std dev 7.11\n",
      "Variable #4: min 0.0, max 371.0, mean 2.35 and std dev 8.39\n",
      "Variable #5: min 0.0, max 145.0, mean 5.48 and std dev 3.14\n",
      "Variable #6: min 0.0, max 14.5, mean 7.60 and std dev 2.74\n",
      "Variable #7: min 6.0, max 135.0, mean 39.93 and std dev 13.14\n",
      "After scaling\n",
      "-------------\n",
      "Variable #0: min -2.26365540824716, max 1.666406621665653, mean 0.00 and std dev 1.00\n",
      "Variable #1: min -1.578348203817151, max 1.6325481308977514, mean 0.00 and std dev 1.00\n",
      "Variable #2: min -3.2373193861573752, max 3.4000989534120403, mean -0.00 and std dev 1.00\n",
      "Variable #3: min -3.94316572081535, max 3.5000140598205802, mean -0.00 and std dev 1.00\n",
      "Variable #4: min -0.27944945390727066, max 43.916202935976834, mean -0.00 and std dev 1.00\n",
      "Variable #5: min -1.746527601691732, max 44.433895109026864, mean 0.00 and std dev 1.00\n",
      "Variable #6: min -2.774395493798091, max 2.5170330201231965, mean 0.00 and std dev 1.00\n",
      "Variable #7: min -2.582246459666216, max 7.233950923542996, mean -0.00 and std dev 1.00\n"
     ]
    }
   ],
   "source": [
    "from sklearn.preprocessing import StandardScaler\n",
    "\n",
    "# initialise a standard scaler object\n",
    "scaler = StandardScaler()\n",
    "\n",
    "# visualise min, max, mean and standard dev of data before scaling\n",
    "print(\"Before scaling\\n-------------\")\n",
    "for i in range(8):\n",
    "    col = X_train[:,i]\n",
    "    print(\"Variable #{}: min {}, max {}, mean {:.2f} and std dev {:.2f}\".\n",
    "          format(i, min(col), max(col), np.mean(col), np.std(col)))\n",
    "\n",
    "# learn the mean and std.dev of variables from training data\n",
    "# then use the learned values to transform training data\n",
    "X_train = scaler.fit_transform(X_train, y_train)\n",
    "\n",
    "print(\"After scaling\\n-------------\")\n",
    "for i in range(8):\n",
    "    col = X_train[:,i]\n",
    "    print(\"Variable #{}: min {}, max {}, mean {:.2f} and std dev {:.2f}\".\n",
    "          format(i, min(col), max(col), np.mean(col), np.std(col)))\n",
    "\n",
    "# use the statistic that you learned from training to transform test data\n",
    "# NEVER learn from test data, this is supposed to be a set of dataset\n",
    "# that the model has never seen before\n",
    "X_test = scaler.transform(X_test)"
   ]
  },
  {
   "cell_type": "code",
   "execution_count": 66,
   "id": "f4c08a0c",
   "metadata": {},
   "outputs": [
    {
     "data": {
      "text/plain": [
       "LogisticRegression(random_state=42)"
      ]
     },
     "execution_count": 66,
     "metadata": {},
     "output_type": "execute_result"
    }
   ],
   "source": [
    "from sklearn.linear_model import LogisticRegression\n",
    "modelLR = LogisticRegression(random_state=42)\n",
    "\n",
    "# fit it to training data\n",
    "modelLR.fit(X_train, y_train)"
   ]
  },
  {
   "cell_type": "code",
   "execution_count": 67,
   "id": "bb56715a",
   "metadata": {},
   "outputs": [
    {
     "name": "stdout",
     "output_type": "stream",
     "text": [
      "Train accuracy: 0.8475284521812502\n",
      "Test accuracy: 0.8472319879998125\n",
      "              precision    recall  f1-score   support\n",
      "\n",
      "           0       0.87      0.95      0.91     33101\n",
      "           1       0.73      0.50      0.59      9565\n",
      "\n",
      "    accuracy                           0.85     42666\n",
      "   macro avg       0.80      0.72      0.75     42666\n",
      "weighted avg       0.84      0.85      0.84     42666\n",
      "\n"
     ]
    }
   ],
   "source": [
    "# training and test accuracy\n",
    "print(\"Train accuracy:\", modelLR.score(X_train, y_train))\n",
    "print(\"Test accuracy:\", modelLR.score(X_test, y_test))\n",
    "\n",
    "# classification report on test data\n",
    "y_predLR = modelLR.predict(X_test)\n",
    "print(classification_report(y_test, y_predLR))"
   ]
  },
  {
   "cell_type": "code",
   "execution_count": 68,
   "id": "d000eeb9",
   "metadata": {
    "scrolled": true
   },
   "outputs": [
    {
     "name": "stdout",
     "output_type": "stream",
     "text": [
      "[[ 2.33865637e-02  6.17659691e-02  2.28235453e-01 -5.90099281e-01\n",
      "   1.75767682e-01 -5.99287946e-03 -2.99017159e-01  7.23936081e-01\n",
      "  -3.38194278e-02 -1.78754093e-01  1.38082554e-01  1.21553887e+00\n",
      "   8.53567276e-01 -1.24536733e+00 -1.39121074e-03  2.80378843e-01\n",
      "   1.96175634e-01  2.74384021e-01  7.86428199e-02  2.61758440e-03\n",
      "   1.45471468e-02  7.90106881e-02  1.40233299e-02 -4.03613578e-02\n",
      "   2.97310222e-02  7.84026062e-02 -8.34315317e-03  2.08048128e-02\n",
      "   6.90774000e-02 -4.77188630e-03 -8.85442260e-03 -8.18659501e-02\n",
      "  -7.43253019e-02 -8.16534064e-02 -4.04394559e-02 -5.80014511e-02\n",
      "  -2.85587692e-04 -4.83132081e-02  1.65895876e-02  4.26425867e-02\n",
      "   2.58847927e-02 -1.80960010e-01 -1.07115243e-02 -1.93332465e-02\n",
      "  -1.01626193e-01 -4.81384125e-02  1.42506370e-02  6.40489906e-02\n",
      "   3.90610220e-02  1.06544235e-01  8.72217966e-02  1.32524832e-02\n",
      "   1.96533550e-02 -3.49840590e-02  4.85167909e-02  2.08551149e-02\n",
      "  -8.89060674e-03 -9.79841398e-02  2.95024662e-02  1.81304846e-02\n",
      "   5.63184705e-02 -1.60034239e-03 -1.25762856e-02  4.86126650e-02\n",
      "   7.32690255e-02 -1.37936862e-01 -1.69322490e-02 -7.98769330e-03\n",
      "   2.85081237e-04  1.71492269e-02  6.40042360e-03 -3.74008694e-02\n",
      "  -3.48110176e-02 -5.62887689e-03  1.32895033e-03  2.49959995e-02\n",
      "   1.01971741e-02  2.35426302e-02  4.00665366e-03  1.75176461e-02\n",
      "   1.17185352e-03 -1.57682577e-02 -1.42632099e-02 -2.45885030e-02\n",
      "   2.25819047e-02 -3.61360084e-02  2.93213980e-02  2.49224167e-02\n",
      "   5.73130140e-02  2.08612065e-02  1.50125443e-02 -5.94624278e-02\n",
      "  -4.96863281e-02 -6.41039875e-02 -1.80500221e-02  2.57571145e-02\n",
      "   9.16218762e-03  1.82858323e-02  2.47930856e-02 -2.59388541e-02\n",
      "  -1.46698445e-02 -2.90991806e-02  4.19410706e-02 -4.82708315e-02\n",
      "  -1.56899415e-03  8.59923467e-02  8.93863960e-02 -1.45589309e-02\n",
      "   1.30277923e-02 -5.54358671e-02 -1.08209942e-02 -4.42443415e-02\n",
      "  -4.21701328e-03  3.89618160e-02 -1.76492051e-02]]\n"
     ]
    }
   ],
   "source": [
    "print(modelLR.coef_)"
   ]
  },
  {
   "cell_type": "code",
   "execution_count": 93,
   "id": "88e71de6",
   "metadata": {
    "scrolled": true
   },
   "outputs": [
    {
     "name": "stdout",
     "output_type": "stream",
     "text": [
      "Pressure3pm : -1.2453673277633261\n",
      "MaxTemp : -0.5900992812429271\n",
      "Sunshine : -0.2990171585735449\n",
      "Location_MountGinini : -0.18096000952526578\n",
      "WindSpeed3pm : -0.17875409296812797\n",
      "Location_Wollongong : -0.1379368624110165\n",
      "Location_NorahHead : -0.10162619274300469\n",
      "Location_Townsville : -0.09798413980321792\n",
      "Location_Darwin : -0.08186595010448296\n",
      "Location_Hobart : -0.08165340639582666\n",
      "Location_GoldCoast : -0.07432530190573246\n",
      "WindDir9am_SSE : -0.06410398746370038\n",
      "WindDir9am_S : -0.059462427775922116\n",
      "Location_Launceston : -0.05800145105564109\n",
      "WindDir3pm_SSE : -0.05543586708603808\n",
      "WindDir9am_SE : -0.04968632808888412\n",
      "Location_MelbourneAirport : -0.048313208080582475\n",
      "WindDir3pm_NE : -0.04827083152249209\n",
      "Location_NorfolkIsland : -0.04813841254102202\n",
      "WindDir3pm_SW : -0.04424434148289238\n",
      "Location_Katherine : -0.04043945586542038\n",
      "Location_Ballarat : -0.04036135777232755\n",
      "WindGustDir_NE : -0.037400869411849884\n",
      "WindDir9am_ESE : -0.03613600843238872\n",
      "Location_Sale : -0.03498405904769131\n",
      "WindGustDir_NNE : -0.03481101764304553\n",
      "WindSpeed9am : -0.03381942784584486\n",
      "WindDir3pm_ESE : -0.02909918059938405\n",
      "WindDir3pm_E : -0.025938854065118668\n",
      "WindDir9am_E : -0.024588502979477823\n",
      "Location_Nhil : -0.019333246462495242\n",
      "WindDir9am_SSW : -0.01805002214970076\n",
      "WindDir3pm_WSW : -0.017649205101027802\n",
      "Location_Woomera : -0.01693224897726044\n",
      "WindGustDir_WNW : -0.015768257689400378\n",
      "WindDir3pm_ENE : -0.01466984452628602\n",
      "WindDir3pm_S : -0.014558930891033524\n",
      "WindGustDir_WSW : -0.01426320989971644\n",
      "Location_Watsonia : -0.012576285601462097\n",
      "WindDir3pm_SSW : -0.010820994238242319\n",
      "Location_Newcastle : -0.010711524307483677\n",
      "Location_SydneyAirport : -0.008890606740699889\n",
      "Location_Dartmoor : -0.008854422603088066\n",
      "Location_Cairns : -0.008343153165903292\n",
      "WindGustDir_E : -0.007987693304205637\n",
      "Evaporation : -0.005992879458411544\n",
      "WindGustDir_NNW : -0.0056288768851202415\n",
      "Location_CoffsHarbour : -0.0047718863019459495\n",
      "WindDir3pm_W : -0.004217013282167734\n",
      "Location_Walpole : -0.001600342392886292\n",
      "WindDir3pm_NNE : -0.0015689941478953858\n",
      "Cloud9am : -0.001391210736048036\n",
      "Location_Melbourne : -0.00028558769179909676\n",
      "WindGustDir_ENE : 0.00028508123738878416\n",
      "WindGustDir_W : 0.001171853519668279\n",
      "WindGustDir_NW : 0.001328950332101322\n",
      "Location_Albany : 0.002617584398276742\n",
      "WindGustDir_SSW : 0.004006653661526901\n",
      "WindGustDir_N : 0.006400423595746508\n",
      "WindDir9am_W : 0.009162187620360277\n",
      "WindGustDir_SE : 0.010197174083805952\n",
      "WindDir3pm_SE : 0.013027792264132832\n",
      "Location_Portland : 0.013252483186154353\n",
      "Location_BadgerysCreek : 0.014023329883977653\n",
      "Location_Nuriootpa : 0.014250637010457628\n",
      "Location_AliceSprings : 0.014547146765585996\n",
      "WindDir9am_NW : 0.015012544269527093\n",
      "Location_Mildura : 0.016589587606485375\n",
      "WindGustDir_ESE : 0.01714922688720175\n",
      "WindGustDir_SW : 0.0175176461471565\n",
      "Location_Uluru : 0.018130484642734493\n",
      "WindDir9am_WNW : 0.01828583226453201\n",
      "Location_Richmond : 0.019653354961763174\n",
      "Location_Canberra : 0.02080481283236562\n",
      "Location_Sydney : 0.020855114940258504\n",
      "WindDir9am_NNW : 0.020861206457190157\n",
      "WindDir9am_ENE : 0.02258190473482716\n",
      "Year : 0.023386563689546096\n",
      "WindGustDir_SSE : 0.023542630163770697\n",
      "WindDir9am_WSW : 0.024793085563959375\n",
      "WindDir9am_NE : 0.024922416731202258\n",
      "WindGustDir_S : 0.024995999538958515\n",
      "WindDir9am_SW : 0.02575711446258734\n",
      "Location_MountGambier : 0.025884792721824746\n",
      "WindDir9am_N : 0.029321397968205293\n",
      "Location_Tuggeranong : 0.029502466218151953\n",
      "Location_Bendigo : 0.02973102220177767\n",
      "WindDir3pm_WNW : 0.038961815979462154\n",
      "Location_Penrith : 0.039061022037924574\n",
      "WindDir3pm_N : 0.041941070626879684\n",
      "Location_Moree : 0.04264258669712684\n",
      "Location_SalmonGums : 0.04851679094293701\n",
      "Location_Williamtown : 0.04861266497050184\n",
      "Location_WaggaWagga : 0.056318470458396136\n",
      "WindDir9am_NNE : 0.05731301399135356\n",
      "Month : 0.06176596910035157\n",
      "Location_PearceRAAF : 0.06404899056440667\n",
      "Location_Cobar : 0.06907740003119973\n",
      "Location_Witchcliffe : 0.07326902548828033\n",
      "Location_Brisbane : 0.07840260620552994\n",
      "Location_Adelaide : 0.07864281994121662\n",
      "Location_Archerfield : 0.07901068812781165\n",
      "WindDir3pm_NNW : 0.08599234669617108\n",
      "Location_PerthAirport : 0.0872217966052786\n",
      "WindDir3pm_NW : 0.0893863960412003\n",
      "Location_Perth : 0.10654423474119361\n",
      "Humidity9am : 0.1380825544433719\n",
      "Rainfall : 0.17576768235568588\n",
      "Temp9am : 0.19617563352593262\n",
      "MinTemp : 0.2282354530832098\n",
      "Temp3pm : 0.2743840210304176\n",
      "Cloud3pm : 0.28037884296504034\n",
      "WindGustSpeed : 0.7239360808313859\n",
      "Pressure9am : 0.8535672755956762\n",
      "Humidity3pm : 1.21553887356475\n"
     ]
    }
   ],
   "source": [
    "feature_names = X.columns\n",
    "coef = modelLR.coef_[0]\n",
    "\n",
    "# sort them out in descending order\n",
    "indicesLR = np.argsort(coef)\n",
    "#indicesLR = np.flip(indices, axis=0)\n",
    "\n",
    "for i in indicesLR:\n",
    "    print(feature_names[i], ':', coef[i])"
   ]
  },
  {
   "cell_type": "code",
   "execution_count": 78,
   "id": "63fcb7e5",
   "metadata": {
    "scrolled": false
   },
   "outputs": [
    {
     "name": "stdout",
     "output_type": "stream",
     "text": [
      "Train accuracy: 0.8475284521812502\n",
      "Test accuracy: 0.8472554258660292\n",
      "              precision    recall  f1-score   support\n",
      "\n",
      "           0       0.87      0.95      0.91     33101\n",
      "           1       0.73      0.50      0.59      9565\n",
      "\n",
      "    accuracy                           0.85     42666\n",
      "   macro avg       0.80      0.72      0.75     42666\n",
      "weighted avg       0.84      0.85      0.84     42666\n",
      "\n",
      "{'C': 100}\n"
     ]
    }
   ],
   "source": [
    "# grid search CV\n",
    "params = {'C': [pow(10, x) for x in range(-6, 4)]}\n",
    "\n",
    "# use all cores to tune logistic regression with C parameter\n",
    "LRcv = GridSearchCV(param_grid = params, estimator = LogisticRegression(random_state=42),\n",
    "                    return_train_score=True, cv=10, n_jobs=-1)\n",
    "LRcv.fit(X_train, y_train)\n",
    "\n",
    "# test the best model\n",
    "print(\"Train accuracy:\", LRcv.score(X_train, y_train))\n",
    "print(\"Test accuracy:\", LRcv.score(X_test, y_test))\n",
    "\n",
    "y_predLRcv = LRcv.predict(X_test)\n",
    "print(classification_report(y_test, y_predLRcv))\n",
    "\n",
    "# print parameters of the best model\n",
    "print(LRcv.best_params_)"
   ]
  },
  {
   "cell_type": "code",
   "execution_count": 72,
   "id": "6cb0ce23",
   "metadata": {
    "scrolled": true
   },
   "outputs": [
    {
     "name": "stdout",
     "output_type": "stream",
     "text": [
      "{'mean_fit_time': array([2.81306038, 2.04151092, 1.83099694, 4.19308195, 6.56024165,\n",
      "       7.92221336, 7.83044386, 8.21104791, 7.94171541, 6.06978073]), 'std_fit_time': array([0.06112402, 0.53697183, 0.08004792, 0.12779943, 0.19637139,\n",
      "       0.33044577, 0.34262203, 0.22730268, 0.25117964, 1.28149654]), 'mean_score_time': array([0.01605721, 0.02058051, 0.0172369 , 0.02326012, 0.02299552,\n",
      "       0.02943177, 0.02730248, 0.02471495, 0.02345114, 0.00959733]), 'std_score_time': array([0.00447819, 0.00250245, 0.0043362 , 0.00606316, 0.00443728,\n",
      "       0.0180433 , 0.00292553, 0.0033324 , 0.00350884, 0.00533958]), 'param_C': masked_array(data=[1e-06, 1e-05, 0.0001, 0.001, 0.01, 0.1, 1, 10, 100,\n",
      "                   1000],\n",
      "             mask=[False, False, False, False, False, False, False, False,\n",
      "                   False, False],\n",
      "       fill_value='?',\n",
      "            dtype=object), 'params': [{'C': 1e-06}, {'C': 1e-05}, {'C': 0.0001}, {'C': 0.001}, {'C': 0.01}, {'C': 0.1}, {'C': 1}, {'C': 10}, {'C': 100}, {'C': 1000}], 'split0_test_score': array([0.77581358, 0.77732021, 0.83457212, 0.84491764, 0.84491764,\n",
      "       0.84461631, 0.84471675, 0.8448172 , 0.8448172 , 0.8448172 ]), 'split1_test_score': array([0.77581358, 0.77852551, 0.83547609, 0.84391322, 0.84833266,\n",
      "       0.84863399, 0.84893532, 0.84903576, 0.84903576, 0.84903576]), 'split2_test_score': array([0.77581358, 0.77772198, 0.83658096, 0.84903576, 0.85124548,\n",
      "       0.85054239, 0.85014062, 0.85014062, 0.85024106, 0.85024106]), 'split3_test_score': array([0.77589151, 0.77749874, 0.82923154, 0.84198895, 0.84379709,\n",
      "       0.8441989 , 0.84409844, 0.8441989 , 0.8441989 , 0.8441989 ]), 'split4_test_score': array([0.77579106, 0.77840281, 0.8297338 , 0.84379709, 0.8467102 ,\n",
      "       0.84650929, 0.84640884, 0.84650929, 0.84650929, 0.84650929]), 'split5_test_score': array([0.77579106, 0.77739829, 0.82802612, 0.84379709, 0.84952285,\n",
      "       0.85092918, 0.85143144, 0.85123054, 0.85123054, 0.85123054]), 'split6_test_score': array([0.77579106, 0.77790055, 0.82893019, 0.84319437, 0.84470116,\n",
      "       0.84580613, 0.84580613, 0.84590658, 0.84590658, 0.84590658]), 'split7_test_score': array([0.77579106, 0.77769965, 0.83324962, 0.84660974, 0.84912104,\n",
      "       0.84831743, 0.84851833, 0.84831743, 0.84831743, 0.84831743]), 'split8_test_score': array([0.77579106, 0.77769965, 0.83415369, 0.84369663, 0.8443998 ,\n",
      "       0.84550477, 0.84540432, 0.84540432, 0.84540432, 0.84540432]), 'split9_test_score': array([0.77579106, 0.77749874, 0.82682069, 0.83967855, 0.84409844,\n",
      "       0.84500251, 0.84520342, 0.84520342, 0.84520342, 0.84520342]), 'mean_test_score': array([0.77580786, 0.77776661, 0.83167748, 0.8440629 , 0.84668464,\n",
      "       0.84700609, 0.84706636, 0.8470764 , 0.84708645, 0.84708645]), 'std_test_score': array([2.96466817e-05, 3.85748977e-04, 3.31186784e-03, 2.37744119e-03,\n",
      "       2.54583588e-03, 2.31974332e-03, 2.38094231e-03, 2.31092151e-03,\n",
      "       2.32439698e-03, 2.32439698e-03]), 'rank_test_score': array([10,  9,  8,  7,  6,  5,  4,  3,  1,  1], dtype=int32), 'split0_train_score': array([0.77580723, 0.77783854, 0.83170195, 0.8446823 , 0.84752838,\n",
      "       0.84791902, 0.84796366, 0.84797482, 0.84797482, 0.84797482]), 'split1_train_score': array([0.77580723, 0.77767113, 0.83151222, 0.84483855, 0.8473498 ,\n",
      "       0.84742793, 0.84747257, 0.84748373, 0.84750605, 0.84750605]), 'split2_train_score': array([0.77580723, 0.77774925, 0.83130016, 0.84418005, 0.84693684,\n",
      "       0.84710426, 0.84708193, 0.84705961, 0.84705961, 0.84705961]), 'split3_train_score': array([0.77579857, 0.77785218, 0.8322842 , 0.84494074, 0.84716177,\n",
      "       0.84779794, 0.84786491, 0.84790955, 0.84792071, 0.84790955]), 'split4_train_score': array([0.77580973, 0.77771825, 0.83213911, 0.84506351, 0.84740731,\n",
      "       0.84770865, 0.84773098, 0.84774214, 0.84773098, 0.84773098]), 'split5_train_score': array([0.77580973, 0.77789683, 0.83223956, 0.8450077 , 0.84672649,\n",
      "       0.84700551, 0.84725105, 0.84722873, 0.84722873, 0.84722873]), 'split6_train_score': array([0.77580973, 0.77779638, 0.83240697, 0.84487377, 0.8474966 ,\n",
      "       0.84767517, 0.84779794, 0.84784259, 0.84784259, 0.84784259]), 'split7_train_score': array([0.77580973, 0.77780754, 0.83167035, 0.84460591, 0.84708364,\n",
      "       0.84739615, 0.84737383, 0.84738499, 0.84736266, 0.84736266]), 'split8_train_score': array([0.77580973, 0.77775174, 0.83121275, 0.8450077 , 0.84758588,\n",
      "       0.84761937, 0.84754124, 0.84751892, 0.84751892, 0.84751892]), 'split9_train_score': array([0.77580973, 0.77785218, 0.83249626, 0.84517512, 0.8473515 ,\n",
      "       0.84766401, 0.84773098, 0.84771982, 0.84771982, 0.84771982]), 'mean_train_score': array([0.77580786, 0.7777934 , 0.83189635, 0.84483753, 0.84726282,\n",
      "       0.8475318 , 0.84758091, 0.84758649, 0.84758649, 0.84758537]), 'std_train_score': array([3.29396956e-06, 6.64362364e-05, 4.47991734e-04, 2.72935190e-04,\n",
      "       2.64967882e-04, 2.80483528e-04, 2.70789850e-04, 2.87067275e-04,\n",
      "       2.88698332e-04, 2.87422836e-04])}\n"
     ]
    }
   ],
   "source": [
    "result_set = LRcv.cv_results_\n",
    "print(result_set)"
   ]
  },
  {
   "cell_type": "code",
   "execution_count": 73,
   "id": "0c544245",
   "metadata": {},
   "outputs": [
    {
     "name": "stdout",
     "output_type": "stream",
     "text": [
      "Total number of models:  10\n"
     ]
    },
    {
     "data": {
      "image/png": "[encoded data removed]",
      "text/plain": [
       "<Figure size 432x288 with 1 Axes>"
      ]
     },
     "metadata": {
      "needs_background": "light"
     },
     "output_type": "display_data"
    }
   ],
   "source": [
    "import matplotlib.pyplot as plt\n",
    "train_result = result_set['split0_train_score']\n",
    "test_result = result_set['split0_test_score']\n",
    "print(\"Total number of models: \", len(test_result))\n",
    "# plot Hyperparameter C values vs training and test accuracy score\n",
    "plt.plot(range(0, len(train_result)), train_result, 'b', range(0,len(test_result)), test_result, 'r')\n",
    "plt.xlabel('Hyperparameter C\\nBlue = training acc. Red = test acc.')\n",
    "plt.xticks(range(0, len(train_result)),[pow(10, x) for x in range(-6, 4)])\n",
    "plt.ylabel('score')\n",
    "plt.show()"
   ]
  },
  {
   "cell_type": "code",
   "execution_count": 74,
   "id": "168bcbd6",
   "metadata": {},
   "outputs": [
    {
     "name": "stdout",
     "output_type": "stream",
     "text": [
      "Total number of models:  10\n"
     ]
    },
    {
     "data": {
      "image/png": "[encoded data removed]",
      "text/plain": [
       "<Figure size 432x288 with 1 Axes>"
      ]
     },
     "metadata": {
      "needs_background": "light"
     },
     "output_type": "display_data"
    }
   ],
   "source": [
    "import matplotlib.pyplot as plt\n",
    "\n",
    "train_result = result_set['mean_train_score']\n",
    "test_result = result_set['mean_test_score']\n",
    "print(\"Total number of models: \", len(test_result))\n",
    "# plot Hyperparameter C values vs training and test accuracy score\n",
    "plt.plot(range(0, len(train_result)), train_result, 'b', range(0,len(test_result)), test_result, 'r')\n",
    "plt.xlabel('Hyperparameter C\\nBlue = training acc. Red = test acc.')\n",
    "plt.xticks(range(0, len(train_result)),[pow(10, x) for x in range(-6, 4)])\n",
    "plt.ylabel('score')\n",
    "plt.show()"
   ]
  },
  {
   "cell_type": "code",
   "execution_count": 75,
   "id": "929fe862",
   "metadata": {},
   "outputs": [
    {
     "name": "stdout",
     "output_type": "stream",
     "text": [
      "{'C': 100}\n"
     ]
    }
   ],
   "source": [
    "print(LRcv.best_params_)"
   ]
  },
  {
   "cell_type": "code",
   "execution_count": 76,
   "id": "b3bfd32b",
   "metadata": {},
   "outputs": [
    {
     "name": "stdout",
     "output_type": "stream",
     "text": [
      "Train accuracy: 0.8475284521812502\n",
      "Test accuracy: 0.8472554258660292\n"
     ]
    }
   ],
   "source": [
    "LRcv.fit(X_train, y_train)\n",
    "\n",
    "print(\"Train accuracy:\", LRcv.score(X_train, y_train))\n",
    "print(\"Test accuracy:\", LRcv.score(X_test, y_test))"
   ]
  },
  {
   "cell_type": "code",
   "execution_count": 107,
   "id": "6eaf808f",
   "metadata": {},
   "outputs": [
    {
     "name": "stdout",
     "output_type": "stream",
     "text": [
      "Original feature set 115\n",
      "Number of features after elimination 104\n"
     ]
    }
   ],
   "source": [
    "from sklearn.feature_selection import RFECV\n",
    "\n",
    "rfe = RFECV(estimator = LogisticRegression(random_state=rs), cv=10)\n",
    "rfe.fit(X_train, y_train) # run the RFECV\n",
    "\n",
    "# comparing how many variables before and after\n",
    "print(\"Original feature set\", X_train.shape[1])\n",
    "print(\"Number of features after elimination\", rfe.n_features_)"
   ]
  },
  {
   "cell_type": "code",
   "execution_count": 108,
   "id": "a4d466e2",
   "metadata": {},
   "outputs": [],
   "source": [
    "X_train_sel = rfe.transform(X_train)\n",
    "X_test_sel = rfe.transform(X_test)"
   ]
  },
  {
   "cell_type": "code",
   "execution_count": 170,
   "id": "e7cdcb1e",
   "metadata": {},
   "outputs": [
    {
     "name": "stderr",
     "output_type": "stream",
     "text": [
      "/Users/chakhochan/opt/anaconda3/lib/python3.8/site-packages/joblib/externals/loky/process_executor.py:688: UserWarning: A worker stopped while some jobs were given to the executor. This can be caused by a too short worker timeout or by a memory leak.\n",
      "  warnings.warn(\n"
     ]
    },
    {
     "name": "stdout",
     "output_type": "stream",
     "text": [
      "Train accuracy: 0.8476188562876056\n",
      "Test accuracy: 0.847466366661979\n",
      "              precision    recall  f1-score   support\n",
      "\n",
      "           0       0.87      0.95      0.91     33101\n",
      "           1       0.73      0.50      0.60      9565\n",
      "\n",
      "    accuracy                           0.85     42666\n",
      "   macro avg       0.80      0.72      0.75     42666\n",
      "weighted avg       0.84      0.85      0.84     42666\n",
      "\n",
      "{'C': 1}\n"
     ]
    }
   ],
   "source": [
    "# grid search CV with X_train_sel and X_test_sel \n",
    "params = {'C': [pow(10, x) for x in range(-6, 4)]}\n",
    "\n",
    "rfe_cv = GridSearchCV(param_grid=params, estimator=LogisticRegression(random_state=rs), cv=10, n_jobs=-1)\n",
    "rfe_cv.fit(X_train_sel, y_train)\n",
    "\n",
    "# test the best model\n",
    "print(\"Train accuracy:\", rfe_cv.score(X_train_sel, y_train))\n",
    "print(\"Test accuracy:\", rfe_cv.score(X_test_sel, y_test))\n",
    "\n",
    "y_pred = rfe_cv.predict(X_test_sel)\n",
    "print(classification_report(y_test, y_pred))\n",
    "\n",
    "# print parameters of the best model\n",
    "print(rfe_cv.best_params_)"
   ]
  },
  {
   "cell_type": "code",
   "execution_count": 169,
   "id": "a292df13",
   "metadata": {},
   "outputs": [
    {
     "ename": "TypeError",
     "evalue": "'int' object is not iterable",
     "output_type": "error",
     "traceback": [
      "\u001b[0;31m---------------------------------------------------------------------------\u001b[0m",
      "\u001b[0;31mTypeError\u001b[0m                                 Traceback (most recent call last)",
      "\u001b[0;32m<ipython-input-169-f4a67ee7d9b7>\u001b[0m in \u001b[0;36m<module>\u001b[0;34m\u001b[0m\n\u001b[0;32m----> 1\u001b[0;31m \u001b[0;32mfor\u001b[0m \u001b[0mX\u001b[0m\u001b[0;34m,\u001b[0m \u001b[0my_predrfe\u001b[0m\u001b[0;34m,\u001b[0m \u001b[0my\u001b[0m \u001b[0;32min\u001b[0m \u001b[0mzip\u001b[0m\u001b[0;34m(\u001b[0m\u001b[0mX\u001b[0m\u001b[0;34m,\u001b[0m \u001b[0my_predrfe\u001b[0m\u001b[0;34m,\u001b[0m \u001b[0my\u001b[0m\u001b[0;34m)\u001b[0m\u001b[0;34m:\u001b[0m\u001b[0;34m\u001b[0m\u001b[0;34m\u001b[0m\u001b[0m\n\u001b[0m\u001b[1;32m      2\u001b[0m     \u001b[0;32mif\u001b[0m \u001b[0my_predrfe\u001b[0m \u001b[0;34m!=\u001b[0m \u001b[0my\u001b[0m\u001b[0;34m:\u001b[0m\u001b[0;34m\u001b[0m\u001b[0;34m\u001b[0m\u001b[0m\n\u001b[1;32m      3\u001b[0m         \u001b[0mprint\u001b[0m\u001b[0;34m(\u001b[0m\u001b[0mX\u001b[0m\u001b[0;34m,\u001b[0m \u001b[0;34m'has been classified as '\u001b[0m\u001b[0;34m,\u001b[0m \u001b[0my_predrfe\u001b[0m\u001b[0;34m,\u001b[0m \u001b[0;34m'and should be '\u001b[0m\u001b[0;34m,\u001b[0m \u001b[0my\u001b[0m\u001b[0;34m)\u001b[0m\u001b[0;34m\u001b[0m\u001b[0;34m\u001b[0m\u001b[0m\n",
      "\u001b[0;31mTypeError\u001b[0m: 'int' object is not iterable"
     ]
    }
   ],
   "source": [
    "for X, y_predrfe, y in zip(X, y_predrfe, y):\n",
    "    if y_predrfe != y:\n",
    "        print(X, 'has been classified as ', y_predrfe, 'and should be ', y) "
   ]
  },
  {
   "cell_type": "code",
   "execution_count": 171,
   "id": "20ed1c49",
   "metadata": {
    "scrolled": true
   },
   "outputs": [
    {
     "ename": "AttributeError",
     "evalue": "'str' object has no attribute 'columns'",
     "output_type": "error",
     "traceback": [
      "\u001b[0;31m---------------------------------------------------------------------------\u001b[0m",
      "\u001b[0;31mAttributeError\u001b[0m                            Traceback (most recent call last)",
      "\u001b[0;32m<ipython-input-171-08ee8dd5431b>\u001b[0m in \u001b[0;36m<module>\u001b[0;34m\u001b[0m\n\u001b[0;32m----> 1\u001b[0;31m \u001b[0mfeature_names\u001b[0m \u001b[0;34m=\u001b[0m \u001b[0mX\u001b[0m\u001b[0;34m.\u001b[0m\u001b[0mcolumns\u001b[0m\u001b[0;34m\u001b[0m\u001b[0;34m\u001b[0m\u001b[0m\n\u001b[0m\u001b[1;32m      2\u001b[0m \u001b[0mcoefrfe\u001b[0m \u001b[0;34m=\u001b[0m \u001b[0mrfe_cv\u001b[0m\u001b[0;34m.\u001b[0m\u001b[0mbest_estimator_\u001b[0m\u001b[0;34m.\u001b[0m\u001b[0mcoef_\u001b[0m\u001b[0;34m[\u001b[0m\u001b[0;36m0\u001b[0m\u001b[0;34m]\u001b[0m\u001b[0;34m\u001b[0m\u001b[0;34m\u001b[0m\u001b[0m\n\u001b[1;32m      3\u001b[0m \u001b[0mcoefrfe\u001b[0m \u001b[0;34m=\u001b[0m \u001b[0mcoefrfe\u001b[0m\u001b[0;34m[\u001b[0m\u001b[0;34m:\u001b[0m\u001b[0;34m]\u001b[0m\u001b[0;34m\u001b[0m\u001b[0;34m\u001b[0m\u001b[0m\n\u001b[1;32m      4\u001b[0m \u001b[0;31m# sort them out in descending order\u001b[0m\u001b[0;34m\u001b[0m\u001b[0;34m\u001b[0m\u001b[0;34m\u001b[0m\u001b[0m\n\u001b[1;32m      5\u001b[0m \u001b[0mindicesrfe\u001b[0m \u001b[0;34m=\u001b[0m \u001b[0mnp\u001b[0m\u001b[0;34m.\u001b[0m\u001b[0margsort\u001b[0m\u001b[0;34m(\u001b[0m\u001b[0mcoefrfe\u001b[0m\u001b[0;34m)\u001b[0m\u001b[0;34m\u001b[0m\u001b[0;34m\u001b[0m\u001b[0m\n",
      "\u001b[0;31mAttributeError\u001b[0m: 'str' object has no attribute 'columns'"
     ]
    }
   ],
   "source": [
    "feature_names = X.columns\n",
    "coefrfe = rfe_cv.best_estimator_.coef_[0]\n",
    "coefrfe = coefrfe[:]\n",
    "# sort them out in descending order\n",
    "indicesrfe = np.argsort(coefrfe)\n",
    "indicesrfe = np.flip(indicesrfe, axis=0)\n",
    "\n",
    "for i in indicesrfe:\n",
    "    print(feature_names[i], ':', coefrfe[i])"
   ]
  },
  {
   "cell_type": "code",
   "execution_count": 167,
   "id": "cd7be36f",
   "metadata": {},
   "outputs": [
    {
     "ename": "IndexError",
     "evalue": "invalid index to scalar variable.",
     "output_type": "error",
     "traceback": [
      "\u001b[0;31m---------------------------------------------------------------------------\u001b[0m",
      "\u001b[0;31mIndexError\u001b[0m                                Traceback (most recent call last)",
      "\u001b[0;32m<ipython-input-167-f2f4ca26448f>\u001b[0m in \u001b[0;36m<module>\u001b[0;34m\u001b[0m\n\u001b[0;32m----> 1\u001b[0;31m \u001b[0my_pred\u001b[0m\u001b[0;34m[\u001b[0m\u001b[0;34m:\u001b[0m\u001b[0;36m10\u001b[0m\u001b[0;34m]\u001b[0m\u001b[0;34m\u001b[0m\u001b[0;34m\u001b[0m\u001b[0m\n\u001b[0m",
      "\u001b[0;31mIndexError\u001b[0m: invalid index to scalar variable."
     ]
    }
   ],
   "source": [
    "y_pred[:10]"
   ]
  },
  {
   "cell_type": "code",
   "execution_count": 168,
   "id": "93f19abf",
   "metadata": {},
   "outputs": [
    {
     "data": {
      "text/plain": [
       "81939     0\n",
       "77651     0\n",
       "77475     1\n",
       "140279    0\n",
       "36246     0\n",
       "2694      1\n",
       "121528    0\n",
       "37834     0\n",
       "124031    0\n",
       "91967     1\n",
       "Name: RainTomorrow, dtype: int64"
      ]
     },
     "execution_count": 168,
     "metadata": {},
     "output_type": "execute_result"
    }
   ],
   "source": [
    "y_test[:10]"
   ]
  },
  {
   "cell_type": "code",
   "execution_count": 138,
   "id": "615db725",
   "metadata": {},
   "outputs": [
    {
     "name": "stdout",
     "output_type": "stream",
     "text": [
      "{'criterion': 'entropy', 'max_depth': 8, 'min_samples_leaf': 15}\n"
     ]
    }
   ],
   "source": [
    "import pickle\n",
    "with open('DT.pickle', 'rb') as f:\n",
    "    dt_best,roc_index_dt_cv, fpr_dt_cv, tpr_dt_cv = pickle.load(f)\n",
    "dt_best.fit(X_train, y_train)\n",
    "\n",
    "print(dt_best.best_params_)"
   ]
  },
  {
   "cell_type": "code",
   "execution_count": 139,
   "id": "18532f91",
   "metadata": {},
   "outputs": [
    {
     "name": "stdout",
     "output_type": "stream",
     "text": [
      "Humidity3pm : 0.6211188914585039\n",
      "WindGustSpeed : 0.11103363152990557\n",
      "Pressure3pm : 0.08244264099933675\n",
      "Sunshine : 0.07721192379384567\n",
      "Rainfall : 0.05660709170408748\n",
      "MinTemp : 0.006253847516101988\n",
      "Temp9am : 0.005697105660451695\n",
      "Temp3pm : 0.005527990083184624\n",
      "Humidity9am : 0.00437329424897236\n",
      "Cloud3pm : 0.0031388526573817533\n",
      "MaxTemp : 0.0026298652262214035\n",
      "Pressure9am : 0.0019536847500821993\n",
      "WindSpeed9am : 0.0018163593660443917\n",
      "Location_Albany : 0.0017969485059378596\n",
      "Cloud9am : 0.001565595635013647\n",
      "Location_MountGinini : 0.0015336230032396258\n",
      "WindDir3pm_W : 0.0015064841339302915\n",
      "Evaporation : 0.0012282909904146153\n",
      "WindGustDir_NE : 0.0012240471539562614\n",
      "Location_NorahHead : 0.001204975335549052\n"
     ]
    }
   ],
   "source": [
    "from dm_tools import analyse_feature_importance\n",
    "\n",
    "# analyse feature importance from the tuned decision tree\n",
    "analyse_feature_importance(dt_best.best_estimator_, X.columns)"
   ]
  },
  {
   "cell_type": "code",
   "execution_count": 140,
   "id": "c27da059",
   "metadata": {},
   "outputs": [
    {
     "name": "stdout",
     "output_type": "stream",
     "text": [
      "(99553, 5)\n"
     ]
    }
   ],
   "source": [
    "from sklearn.feature_selection import SelectFromModel\n",
    "\n",
    "# use the trained best decision tree from GridSearchCV to select features\n",
    "# supply the prefit=True parameter to stop SelectFromModel to re-train the model\n",
    "selectmodel = SelectFromModel(dt_best.best_estimator_, prefit=True)\n",
    "X_train_sel_model = selectmodel.transform(X_train)\n",
    "X_test_sel_model = selectmodel.transform(X_test)\n",
    "\n",
    "print(X_train_sel_model.shape)"
   ]
  },
  {
   "cell_type": "code",
   "execution_count": 141,
   "id": "afb01933",
   "metadata": {},
   "outputs": [
    {
     "name": "stdout",
     "output_type": "stream",
     "text": [
      "Train accuracy: 0.836740228822838\n",
      "Test accuracy: 0.8403646931983312\n",
      "              precision    recall  f1-score   support\n",
      "\n",
      "           0       0.86      0.95      0.90     33101\n",
      "           1       0.72      0.47      0.57      9565\n",
      "\n",
      "    accuracy                           0.84     42666\n",
      "   macro avg       0.79      0.71      0.73     42666\n",
      "weighted avg       0.83      0.84      0.83     42666\n",
      "\n",
      "{'C': 1}\n"
     ]
    }
   ],
   "source": [
    "params = {'C': [pow(10, x) for x in range(-6, 4)]}\n",
    "\n",
    "### For the params given, build a logistic regression model with GridSearch.\n",
    "\n",
    "cv_sel_model = GridSearchCV(param_grid=params, estimator=LogisticRegression(random_state=42), cv=10, n_jobs=-1)\n",
    "cv_sel_model.fit(X_train_sel_model, y_train)\n",
    "\n",
    "print(\"Train accuracy:\", cv_sel_model.score(X_train_sel_model, y_train))\n",
    "print(\"Test accuracy:\", cv_sel_model.score(X_test_sel_model, y_test))\n",
    "\n",
    "# test the best model\n",
    "y_pred_sel = cv_sel_model.predict(X_test_sel_model)\n",
    "print(classification_report(y_test, y_pred_sel))\n",
    "\n",
    "# print parameters of the best model\n",
    "print(cv_sel_model.best_params_)"
   ]
  },
  {
   "cell_type": "code",
   "execution_count": 104,
   "id": "4cab4d0f",
   "metadata": {},
   "outputs": [
    {
     "data": {
      "image/png": "[encoded data removed]",
      "text/plain": [
       "<Figure size 432x288 with 2 Axes>"
      ]
     },
     "metadata": {
      "needs_background": "light"
     },
     "output_type": "display_data"
    }
   ],
   "source": [
    "from sklearn.metrics import plot_confusion_matrix\n",
    "from matplotlib import cm\n",
    "\n",
    "class_names = [\"Rain Tomorrow\", \"NO Rain Tomorrow\"]\n",
    "disp = plot_confusion_matrix(rfe_cv, X_test_sel, y_test, display_labels = class_names, cmap = plt.cm.Blues)\n",
    "disp.ax_.set_title(\"Confusion Matrix\")\n",
    "plt.grid()"
   ]
  },
  {
   "cell_type": "code",
   "execution_count": 142,
   "id": "309c1cc3",
   "metadata": {},
   "outputs": [
    {
     "name": "stdout",
     "output_type": "stream",
     "text": [
      "ROC index on test for `model`: 0.8692367653038279\n",
      "ROC index on test for `cv`: 0.8692355019241036\n",
      "ROC index on test for `rfe_cv`: 0.8692396110666568\n",
      "ROC index on test for `cv_sel_model`: 0.8551512657967276\n"
     ]
    }
   ],
   "source": [
    "from sklearn.metrics import roc_auc_score\n",
    "\n",
    "y_pred_proba_lr = modelLR.predict_proba(X_test)\n",
    "y_pred_proba_lr_cv = LRcv.predict_proba(X_test)\n",
    "y_pred_proba_rfe_cv = rfe_cv.predict_proba(X_test_sel)\n",
    "y_pred_proba_cv_sel_model = cv_sel_model.predict_proba(X_test_sel_model)\n",
    "\n",
    "\n",
    "roc_index_lr = roc_auc_score(y_test, y_pred_proba_lr[:, 1])\n",
    "roc_index_lr_cv = roc_auc_score(y_test, y_pred_proba_lr_cv[:, 1])\n",
    "roc_index_rfe_cv = roc_auc_score(y_test, y_pred_proba_rfe_cv[:, 1])\n",
    "roc_index_cv_sel_model = roc_auc_score(y_test, y_pred_proba_cv_sel_model[:, 1])\n",
    "\n",
    "\n",
    "print(\"ROC index on test for `model`:\", roc_index_lr)\n",
    "print(\"ROC index on test for `cv`:\", roc_index_lr_cv)\n",
    "print(\"ROC index on test for `rfe_cv`:\", roc_index_rfe_cv)\n",
    "print(\"ROC index on test for `cv_sel_model`:\", roc_index_cv_sel_model)"
   ]
  },
  {
   "cell_type": "code",
   "execution_count": 143,
   "id": "b4053194",
   "metadata": {},
   "outputs": [],
   "source": [
    "from sklearn.metrics import roc_curve\n",
    "\n",
    "fpr_lr, tpr_lr, thresholds_lr = roc_curve(y_test, y_pred_proba_lr[:,1])\n",
    "fpr_lr_cv, tpr_lr_cv, thresholds_lr_cv = roc_curve(y_test, y_pred_proba_lr_cv[:,1])\n",
    "fpr_rfe_cv, tpr_rfe_cv, thresholds_rfe_cv = roc_curve(y_test, y_pred_proba_rfe_cv[:,1])\n",
    "fpr_cv_sel_model, tpr_cv_sel_model, thresholds_cv_sel_model = roc_curve(y_test, y_pred_proba_cv_sel_model[:,1])"
   ]
  },
  {
   "cell_type": "code",
   "execution_count": 144,
   "id": "9203db6d",
   "metadata": {},
   "outputs": [
    {
     "data": {
      "image/png": "[encoded data removed]",
      "text/plain": [
       "<Figure size 432x288 with 1 Axes>"
      ]
     },
     "metadata": {
      "needs_background": "light"
     },
     "output_type": "display_data"
    }
   ],
   "source": [
    "import matplotlib.pyplot as plt\n",
    "\n",
    "plt.plot(fpr_lr, tpr_lr, label='ROC Curve for `model` {:.3f}'.format(roc_index_lr), color='red', lw=0.5)\n",
    "plt.plot(fpr_lr_cv, tpr_lr_cv, label='ROC Curve for `cv` {:.3f}'.format(roc_index_lr_cv), color='green', lw=0.5)\n",
    "plt.plot(fpr_rfe_cv, tpr_rfe_cv, label='ROC Curve for `rfe_cv` {:.3f}'.format(roc_index_rfe_cv), color='blue', lw=0.5)\n",
    "plt.plot(fpr_cv_sel_model, tpr_cv_sel_model, label='ROC Curve for `cv_sel_model` {:.3f}'.format(roc_index_cv_sel_model), color='yellow', lw=0.5)\n",
    "\n",
    "\n",
    "plt.plot([0, 1], [0, 1], color='navy', lw=0.5, linestyle='--')\n",
    "plt.xlim([0.0, 1.0])\n",
    "plt.ylim([0.0, 1.0])\n",
    "plt.xlabel('False Positive Rate')\n",
    "plt.ylabel('True Positive Rate')\n",
    "plt.title('Receiver operating characteristic example')\n",
    "plt.legend(loc=\"lower right\")\n",
    "plt.show()"
   ]
  },
  {
   "cell_type": "code",
   "execution_count": 145,
   "id": "02c3f9ca",
   "metadata": {},
   "outputs": [],
   "source": [
    "import pickle\n",
    "lr_best = cv_sel_model\n",
    "roc_index_lr_best = roc_index_cv_sel_model\n",
    "tpr_lr_best = tpr_cv_sel_model\n",
    "fpr_lr_best = fpr_cv_sel_model\n",
    "with open('LR.pickle', 'wb') as f:\n",
    "    pickle.dump([lr_best,roc_index_lr_best, fpr_lr_best, tpr_lr_best], f)"
   ]
  },
  {
   "cell_type": "code",
   "execution_count": null,
   "id": "c5edc623",
   "metadata": {},
   "outputs": [],
   "source": []
  }
 ],
 "metadata": {
  "kernelspec": {
   "display_name": "Python 3",
   "language": "python",
   "name": "python3"
  },
  "language_info": {
   "codemirror_mode": {
    "name": "ipython",
    "version": 3
   },
   "file_extension": ".py",
   "mimetype": "text/x-python",
   "name": "python",
   "nbconvert_exporter": "python",
   "pygments_lexer": "ipython3",
   "version": "3.8.2"
  }
 },
 "nbformat": 4,
 "nbformat_minor": 5
}
