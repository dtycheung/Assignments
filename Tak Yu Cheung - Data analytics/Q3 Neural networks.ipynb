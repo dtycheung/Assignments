{
 "cells": [
  {
   "cell_type": "markdown",
   "id": "0bcd99dd",
   "metadata": {},
   "source": [
    "# Neural Networks"
   ]
  },
  {
   "cell_type": "code",
   "execution_count": 1,
   "id": "0265f385",
   "metadata": {},
   "outputs": [],
   "source": [
    "# libraries\n",
    "import pandas as pd\n",
    "import numpy as np\n",
    "from sklearn.model_selection import train_test_split\n",
    "from sklearn.metrics import classification_report, accuracy_score\n",
    "from sklearn.model_selection import GridSearchCV\n",
    "from dm_tools import data_prep\n",
    "from sklearn.preprocessing import StandardScaler\n",
    "\n",
    "# set the random seed - consistent\n",
    "rs = 10\n",
    "\n",
    "# load the data\n",
    "df,X,y,X_train, X_test, y_train, y_test = data_prep()\n",
    "\n",
    "scaler = StandardScaler()\n",
    "X_train = scaler.fit_transform(X_train, y_train)\n",
    "X_test = scaler.transform(X_test)"
   ]
  },
  {
   "cell_type": "code",
   "execution_count": 2,
   "id": "b70395d1",
   "metadata": {},
   "outputs": [
    {
     "name": "stdout",
     "output_type": "stream",
     "text": [
      "(        Year  Month  MaxTemp  Rainfall  Evaporation  Sunshine  WindSpeed3pm  \\\n",
      "0       2008     11     23.0       0.7          5.5       7.6            24   \n",
      "1       2008     11     25.1       0.0          5.5       7.6            22   \n",
      "2       2008     11     25.7       0.0          5.5       7.6            26   \n",
      "3       2008     11     28.0       0.0          5.5       7.6             9   \n",
      "4       2008     11     32.3       1.0          5.5       7.6            20   \n",
      "...      ...    ...      ...       ...          ...       ...           ...   \n",
      "142214  2017      6     21.8       0.0          5.5       7.6            13   \n",
      "142215  2017      6     23.4       0.0          5.5       7.6            11   \n",
      "142216  2017      6     25.3       0.0          5.5       7.6             9   \n",
      "142217  2017      6     26.9       0.0          5.5       7.6             9   \n",
      "142218  2017      6     27.0       0.0          5.5       7.6             7   \n",
      "\n",
      "        Pressure3pm  RainTomorrow  \n",
      "0            1007.1             0  \n",
      "1            1007.8             0  \n",
      "2            1008.7             0  \n",
      "3            1012.8             0  \n",
      "4            1006.0             0  \n",
      "...             ...           ...  \n",
      "142214       1021.2             0  \n",
      "142215       1020.3             0  \n",
      "142216       1019.1             0  \n",
      "142217       1016.8             0  \n",
      "142218       1016.5             0  \n",
      "\n",
      "[142219 rows x 9 columns],         Year  Month  MaxTemp  Rainfall  Evaporation  Sunshine  WindSpeed3pm  \\\n",
      "0       2008     11     23.0       0.7          5.5       7.6            24   \n",
      "1       2008     11     25.1       0.0          5.5       7.6            22   \n",
      "2       2008     11     25.7       0.0          5.5       7.6            26   \n",
      "3       2008     11     28.0       0.0          5.5       7.6             9   \n",
      "4       2008     11     32.3       1.0          5.5       7.6            20   \n",
      "...      ...    ...      ...       ...          ...       ...           ...   \n",
      "142214  2017      6     21.8       0.0          5.5       7.6            13   \n",
      "142215  2017      6     23.4       0.0          5.5       7.6            11   \n",
      "142216  2017      6     25.3       0.0          5.5       7.6             9   \n",
      "142217  2017      6     26.9       0.0          5.5       7.6             9   \n",
      "142218  2017      6     27.0       0.0          5.5       7.6             7   \n",
      "\n",
      "        Pressure3pm  \n",
      "0            1007.1  \n",
      "1            1007.8  \n",
      "2            1008.7  \n",
      "3            1012.8  \n",
      "4            1006.0  \n",
      "...             ...  \n",
      "142214       1021.2  \n",
      "142215       1020.3  \n",
      "142216       1019.1  \n",
      "142217       1016.8  \n",
      "142218       1016.5  \n",
      "\n",
      "[142219 rows x 8 columns], 0         0\n",
      "1         0\n",
      "2         0\n",
      "3         0\n",
      "4         0\n",
      "         ..\n",
      "142214    0\n",
      "142215    0\n",
      "142216    0\n",
      "142217    0\n",
      "142218    0\n",
      "Name: RainTomorrow, Length: 142219, dtype: int64, array([[2.00800e+03, 1.00000e+01, 1.84000e+01, ..., 8.30000e+00,\n",
      "        2.20000e+01, 1.01690e+03],\n",
      "       [2.00900e+03, 1.20000e+01, 3.21000e+01, ..., 7.60000e+00,\n",
      "        2.40000e+01, 1.01526e+03],\n",
      "       [2.01500e+03, 6.00000e+00, 1.88000e+01, ..., 5.60000e+00,\n",
      "        1.70000e+01, 1.02310e+03],\n",
      "       ...,\n",
      "       [2.01700e+03, 2.00000e+00, 3.20000e+01, ..., 7.60000e+00,\n",
      "        1.50000e+01, 1.00310e+03],\n",
      "       [2.01400e+03, 7.00000e+00, 1.90000e+01, ..., 4.10000e+00,\n",
      "        1.90000e+01, 1.02310e+03],\n",
      "       [2.01100e+03, 6.00000e+00, 2.27000e+01, ..., 7.60000e+00,\n",
      "        1.10000e+01, 1.02520e+03]]), array([[2.0090e+03, 2.0000e+00, 3.1100e+01, ..., 1.2100e+01, 1.9000e+01,\n",
      "        1.0106e+03],\n",
      "       [2.0140e+03, 5.0000e+00, 2.1200e+01, ..., 3.0000e-01, 1.3000e+01,\n",
      "        1.0227e+03],\n",
      "       [2.0130e+03, 1.1000e+01, 2.2600e+01, ..., 9.5000e+00, 1.7000e+01,\n",
      "        1.0068e+03],\n",
      "       ...,\n",
      "       [2.0110e+03, 6.0000e+00, 1.2800e+01, ..., 7.6000e+00, 1.5000e+01,\n",
      "        1.0180e+03],\n",
      "       [2.0140e+03, 6.0000e+00, 1.0400e+01, ..., 1.0000e+00, 1.5000e+01,\n",
      "        1.0062e+03],\n",
      "       [2.0110e+03, 7.0000e+00, 1.4300e+01, ..., 7.6000e+00, 2.4000e+01,\n",
      "        1.0257e+03]]), 117826    0\n",
      "121259    0\n",
      "22914     1\n",
      "120601    0\n",
      "130733    0\n",
      "         ..\n",
      "57101     1\n",
      "40275     0\n",
      "140562    1\n",
      "113709    0\n",
      "88773     0\n",
      "Name: RainTomorrow, Length: 99553, dtype: int64, 81939     0\n",
      "77651     0\n",
      "77475     1\n",
      "140279    0\n",
      "36246     0\n",
      "         ..\n",
      "1637      1\n",
      "45450     0\n",
      "907       0\n",
      "77694     1\n",
      "57668     0\n",
      "Name: RainTomorrow, Length: 42666, dtype: int64)\n"
     ]
    }
   ],
   "source": [
    "df = data_prep()\n",
    "print(df)\n"
   ]
  },
  {
   "cell_type": "code",
   "execution_count": 3,
   "id": "9e66b53a",
   "metadata": {},
   "outputs": [
    {
     "name": "stdout",
     "output_type": "stream",
     "text": [
      "Train accuracy: 0.8210199592177031\n",
      "Test accuracy: 0.8193643650682042\n",
      "              precision    recall  f1-score   support\n",
      "\n",
      "           0       0.84      0.95      0.89     33101\n",
      "           1       0.67      0.38      0.49      9565\n",
      "\n",
      "    accuracy                           0.82     42666\n",
      "   macro avg       0.76      0.66      0.69     42666\n",
      "weighted avg       0.80      0.82      0.80     42666\n",
      "\n",
      "MLPClassifier(random_state=42)\n"
     ]
    }
   ],
   "source": [
    "from sklearn.neural_network import MLPClassifier\n",
    "\n",
    "modelNN = MLPClassifier(random_state=42)\n",
    "modelNN.fit(X_train, y_train)\n",
    "\n",
    "print(\"Train accuracy:\", modelNN.score(X_train, y_train))\n",
    "print(\"Test accuracy:\", modelNN.score(X_test, y_test))\n",
    "\n",
    "y_pred = modelNN.predict(X_test)\n",
    "print(classification_report(y_test, y_pred))\n",
    "\n",
    "print(modelNN)"
   ]
  },
  {
   "cell_type": "code",
   "execution_count": 4,
   "id": "faf5d5a2",
   "metadata": {},
   "outputs": [
    {
     "name": "stdout",
     "output_type": "stream",
     "text": [
      "(99553, 8)\n"
     ]
    }
   ],
   "source": [
    "print(X_train.shape)"
   ]
  },
  {
   "cell_type": "code",
   "execution_count": 5,
   "id": "d1b179dc",
   "metadata": {},
   "outputs": [
    {
     "data": {
      "text/plain": [
       "GridSearchCV(cv=10, estimator=MLPClassifier(random_state=42), n_jobs=-1,\n",
       "             param_grid={'hidden_layer_sizes': [(1,), (2,), (3,), (4,), (5,),\n",
       "                                                (6,), (7,), (8,)]},\n",
       "             return_train_score=True)"
      ]
     },
     "execution_count": 5,
     "metadata": {},
     "output_type": "execute_result"
    }
   ],
   "source": [
    "params = {'hidden_layer_sizes': [(x,) for x in range(1, 9, 1)]}\n",
    "\n",
    "cvNN = GridSearchCV(param_grid=params, estimator=MLPClassifier(random_state=42),\n",
    "                    return_train_score=True, cv=10, n_jobs=-1)\n",
    "cvNN.fit(X_train, y_train)"
   ]
  },
  {
   "cell_type": "code",
   "execution_count": 6,
   "id": "94b7ac4f",
   "metadata": {
    "scrolled": true
   },
   "outputs": [
    {
     "name": "stdout",
     "output_type": "stream",
     "text": [
      "{'mean_fit_time': array([ 8.42668722, 10.9572099 , 13.94709053, 19.3878741 , 26.85119698,\n",
      "       25.75178852, 31.75626624, 25.64008811]), 'std_fit_time': array([0.39266891, 2.18139179, 1.00777676, 2.69279531, 5.88813866,\n",
      "       3.10379237, 6.17261753, 3.78998286]), 'mean_score_time': array([0.00355875, 0.00402818, 0.00478008, 0.0049052 , 0.00630846,\n",
      "       0.00663989, 0.00518565, 0.00435309]), 'std_score_time': array([0.00113624, 0.00059753, 0.00096113, 0.00053348, 0.00146072,\n",
      "       0.00178564, 0.00054067, 0.00156186]), 'param_hidden_layer_sizes': masked_array(data=[(1,), (2,), (3,), (4,), (5,), (6,), (7,), (8,)],\n",
      "             mask=[False, False, False, False, False, False, False, False],\n",
      "       fill_value='?',\n",
      "            dtype=object), 'params': [{'hidden_layer_sizes': (1,)}, {'hidden_layer_sizes': (2,)}, {'hidden_layer_sizes': (3,)}, {'hidden_layer_sizes': (4,)}, {'hidden_layer_sizes': (5,)}, {'hidden_layer_sizes': (6,)}, {'hidden_layer_sizes': (7,)}, {'hidden_layer_sizes': (8,)}], 'split0_test_score': array([0.8110687 , 0.81337887, 0.8160908 , 0.81709522, 0.81619124,\n",
      "       0.81709522, 0.81689434, 0.81629168]), 'split1_test_score': array([0.81207312, 0.81378063, 0.81398152, 0.81408196, 0.81337887,\n",
      "       0.81448373, 0.81669345, 0.81398152]), 'split2_test_score': array([0.81368019, 0.81147047, 0.81468461, 0.81528726, 0.81649257,\n",
      "       0.81910406, 0.81880273, 0.81679389]), 'split3_test_score': array([0.81205424, 0.80743345, 0.81104972, 0.81195379, 0.81104972,\n",
      "       0.81456554, 0.81315922, 0.81265696]), 'split4_test_score': array([0.80803616, 0.80883978, 0.81014566, 0.80924159, 0.81084882,\n",
      "       0.81195379, 0.81074837, 0.8123556 ]), 'split5_test_score': array([0.81125063, 0.80904068, 0.81245605, 0.81245605, 0.81205424,\n",
      "       0.81406328, 0.81054746, 0.81135108]), 'split6_test_score': array([0.8075339 , 0.80642893, 0.80994475, 0.80934204, 0.81014566,\n",
      "       0.8125565 , 0.81064792, 0.8098443 ]), 'split7_test_score': array([0.80642893, 0.81195379, 0.81195379, 0.81325967, 0.81185334,\n",
      "       0.81064792, 0.81175289, 0.81074837]), 'split8_test_score': array([0.81245605, 0.81647413, 0.81526871, 0.81828227, 0.81747865,\n",
      "       0.81858363, 0.8198895 , 0.81938724]), 'split9_test_score': array([0.80532396, 0.80823707, 0.80873933, 0.80673029, 0.80914114,\n",
      "       0.80914114, 0.80773481, 0.80974385]), 'mean_test_score': array([0.80999059, 0.81070378, 0.81243149, 0.81277301, 0.81286342,\n",
      "       0.81421948, 0.81368707, 0.81331545]), 'std_test_score': array([0.00274509, 0.00305557, 0.00236851, 0.00344723, 0.00275819,\n",
      "       0.00312783, 0.00388772, 0.00308021]), 'rank_test_score': array([8, 7, 6, 5, 4, 1, 2, 3], dtype=int32), 'split0_train_score': array([0.80977042, 0.81075259, 0.81175709, 0.81253837, 0.81362099,\n",
      "       0.81474826, 0.81537328, 0.81323035]), 'split1_train_score': array([0.80979274, 0.8102615 , 0.8122705 , 0.81357635, 0.81377725,\n",
      "       0.81454736, 0.81529515, 0.81420137]), 'split2_train_score': array([0.80964764, 0.81044008, 0.81210308, 0.81298481, 0.81285088,\n",
      "       0.81424601, 0.81359867, 0.81356519]), 'split3_train_score': array([0.80995111, 0.81067658, 0.81288645, 0.81358959, 0.81376816,\n",
      "       0.81454943, 0.81434853, 0.81516328]), 'split4_train_score': array([0.81020782, 0.8108998 , 0.81315431, 0.81363423, 0.81327708,\n",
      "       0.8146722 , 0.81449363, 0.81418112]), 'split5_train_score': array([0.81015201, 0.81156945, 0.81307618, 0.81319896, 0.81322128,\n",
      "       0.81424809, 0.81416996, 0.813757  ]), 'split6_train_score': array([0.81021898, 0.8114132 , 0.81291993, 0.8132994 , 0.8132436 ,\n",
      "       0.81478381, 0.81430389, 0.81423692]), 'split7_train_score': array([0.81043104, 0.81111186, 0.81288645, 0.81291993, 0.81336637,\n",
      "       0.81515212, 0.8143597 , 0.81381281]), 'split8_train_score': array([0.80976138, 0.80990647, 0.8125293 , 0.81322128, 0.81266323,\n",
      "       0.81443782, 0.81504051, 0.81343334]), 'split9_train_score': array([0.81060961, 0.81169223, 0.81335521, 0.81400254, 0.8130427 ,\n",
      "       0.81539767, 0.81636867, 0.81427041]), 'mean_train_score': array([0.81005427, 0.81087238, 0.81269385, 0.81329655, 0.81328315,\n",
      "       0.81467828, 0.8147352 , 0.81398518]), 'std_train_score': array([0.00030354, 0.00055266, 0.00048515, 0.00040071, 0.0003514 ,\n",
      "       0.00034951, 0.00075022, 0.00052443])}\n"
     ]
    }
   ],
   "source": [
    "result_setNN = cvNN.cv_results_\n",
    "print(result_setNN)"
   ]
  },
  {
   "cell_type": "code",
   "execution_count": 7,
   "id": "547781ec",
   "metadata": {},
   "outputs": [
    {
     "name": "stdout",
     "output_type": "stream",
     "text": [
      "Total number of models:  8\n"
     ]
    },
    {
     "data": {
      "image/png": "[encoded data removed]",
      "text/plain": [
       "<Figure size 432x288 with 1 Axes>"
      ]
     },
     "metadata": {
      "needs_background": "light"
     },
     "output_type": "display_data"
    }
   ],
   "source": [
    "import matplotlib.pyplot as plt\n",
    "train_result = result_setNN['split0_train_score']\n",
    "test_result = result_setNN['split0_test_score']\n",
    "print(\"Total number of models: \", len(test_result))\n",
    "# plot hidden layers hyperparameter values vs training and test accuracy score\n",
    "plt.plot(range(0, len(train_result)), train_result, 'b', range(0,len(test_result)), test_result, 'r')\n",
    "plt.xlabel('Hyperparameter Hidden_layers\\nBlue = training acc. Red = test acc.')\n",
    "plt.xticks(range(0, len(train_result)),range(1, 9 ,1))\n",
    "plt.ylabel('score')\n",
    "plt.show()"
   ]
  },
  {
   "cell_type": "code",
   "execution_count": 8,
   "id": "937cc8b0",
   "metadata": {
    "scrolled": true
   },
   "outputs": [
    {
     "name": "stdout",
     "output_type": "stream",
     "text": [
      "Total number of models:  8\n"
     ]
    },
    {
     "data": {
      "image/png": "[encoded data removed]",
      "text/plain": [
       "<Figure size 432x288 with 1 Axes>"
      ]
     },
     "metadata": {
      "needs_background": "light"
     },
     "output_type": "display_data"
    }
   ],
   "source": [
    "train_result = result_setNN['mean_train_score']\n",
    "test_result = result_setNN['mean_test_score']\n",
    "print(\"Total number of models: \", len(test_result))\n",
    "# plot hidden layers hyperparameter values vs training and test accuracy score\n",
    "plt.plot(range(0, len(train_result)), train_result, 'b', range(0,len(test_result)), test_result, 'r')\n",
    "plt.xlabel('Hyperparameter Hidden_layers\\nBlue = training acc. Red = test acc.')\n",
    "plt.xticks(range(0, len(train_result)),range(1,9,1))\n",
    "plt.ylabel('score')\n",
    "plt.show()"
   ]
  },
  {
   "cell_type": "code",
   "execution_count": 9,
   "id": "3b6c83e7",
   "metadata": {},
   "outputs": [
    {
     "name": "stdout",
     "output_type": "stream",
     "text": [
      "Train accuracy: 0.8147017166735306\n",
      "Test accuracy: 0.8151689870154221\n",
      "              precision    recall  f1-score   support\n",
      "\n",
      "           0       0.84      0.94      0.89     33101\n",
      "           1       0.66      0.37      0.47      9565\n",
      "\n",
      "    accuracy                           0.82     42666\n",
      "   macro avg       0.75      0.66      0.68     42666\n",
      "weighted avg       0.80      0.82      0.79     42666\n",
      "\n",
      "{'hidden_layer_sizes': (6,)}\n",
      "GridSearchCV(cv=10, estimator=MLPClassifier(random_state=42), n_jobs=-1,\n",
      "             param_grid={'hidden_layer_sizes': [(1,), (2,), (3,), (4,), (5,),\n",
      "                                                (6,), (7,), (8,)]},\n",
      "             return_train_score=True)\n"
     ]
    }
   ],
   "source": [
    "print(\"Train accuracy:\", cvNN.score(X_train, y_train))\n",
    "print(\"Test accuracy:\", cvNN.score(X_test, y_test))\n",
    "\n",
    "y_pred = cvNN.predict(X_test)\n",
    "print(classification_report(y_test, y_pred))\n",
    "\n",
    "print(cvNN.best_params_)\n",
    "print(cvNN)"
   ]
  },
  {
   "cell_type": "code",
   "execution_count": 10,
   "id": "0c351144",
   "metadata": {},
   "outputs": [
    {
     "name": "stdout",
     "output_type": "stream",
     "text": [
      "Train accuracy: 0.8143200104466968\n",
      "Test accuracy: 0.8147939811559556\n",
      "              precision    recall  f1-score   support\n",
      "\n",
      "           0       0.84      0.94      0.89     33101\n",
      "           1       0.66      0.37      0.47      9565\n",
      "\n",
      "    accuracy                           0.81     42666\n",
      "   macro avg       0.75      0.66      0.68     42666\n",
      "weighted avg       0.80      0.81      0.79     42666\n",
      "\n",
      "{'alpha': 0.001, 'hidden_layer_sizes': (8,)}\n",
      "GridSearchCV(cv=10, estimator=MLPClassifier(random_state=10), n_jobs=-1,\n",
      "             param_grid={'alpha': [0.01, 0.001, 0.0001, 1e-05],\n",
      "                         'hidden_layer_sizes': [(5,), (6,), (7,), (8,)]})\n"
     ]
    }
   ],
   "source": [
    "params = {'hidden_layer_sizes': [(5,), (6,), (7,), (8,)], 'alpha': [0.01,0.001, 0.0001, 0.00001]}\n",
    "\n",
    "cvNN1 = GridSearchCV(param_grid=params, estimator=MLPClassifier(random_state=rs), cv=10, n_jobs=-1)\n",
    "cvNN1.fit(X_train, y_train)\n",
    "\n",
    "print(\"Train accuracy:\", cvNN1.score(X_train, y_train))\n",
    "print(\"Test accuracy:\", cvNN1.score(X_test, y_test))\n",
    "\n",
    "y_pred = cvNN1.predict(X_test)\n",
    "print(classification_report(y_test, y_pred))\n",
    "\n",
    "print(cvNN1.best_params_)\n",
    "print(cvNN1)"
   ]
  },
  {
   "cell_type": "code",
   "execution_count": 11,
   "id": "27432d8b",
   "metadata": {},
   "outputs": [
    {
     "name": "stdout",
     "output_type": "stream",
     "text": [
      "{'criterion': 'gini', 'max_depth': 7, 'min_samples_leaf': 10}\n"
     ]
    }
   ],
   "source": [
    "import pickle\n",
    "with open('DT.pickle', 'rb') as f:\n",
    "    dt_best,roc_index_dt_cv, fpr_dt_cv, tpr_dt_cv = pickle.load(f)\n",
    "\n",
    "print(dt_best.best_params_)"
   ]
  },
  {
   "cell_type": "code",
   "execution_count": 12,
   "id": "6c7659e1",
   "metadata": {},
   "outputs": [
    {
     "name": "stdout",
     "output_type": "stream",
     "text": [
      "Rainfall : 0.44773271332547065\n",
      "Sunshine : 0.2890794255979461\n",
      "Pressure3pm : 0.18621391504213367\n",
      "MaxTemp : 0.05734217548567818\n",
      "Month : 0.006728054507639215\n",
      "WindSpeed3pm : 0.006211490669651024\n",
      "Evaporation : 0.005570556524439531\n",
      "Year : 0.0011216688470417292\n"
     ]
    }
   ],
   "source": [
    "from dm_tools import analyse_feature_importance\n",
    "\n",
    "analyse_feature_importance(dt_best.best_estimator_, X.columns)"
   ]
  },
  {
   "cell_type": "code",
   "execution_count": 13,
   "id": "8caaeb83",
   "metadata": {},
   "outputs": [
    {
     "name": "stdout",
     "output_type": "stream",
     "text": [
      "(99553, 3)\n"
     ]
    }
   ],
   "source": [
    "from sklearn.feature_selection import SelectFromModel\n",
    "\n",
    "selectmodel = SelectFromModel(dt_best.best_estimator_, prefit=True)\n",
    "X_train_sel_model = selectmodel.transform(X_train)\n",
    "X_test_sel_model = selectmodel.transform(X_test)\n",
    "\n",
    "print(X_train_sel_model.shape)"
   ]
  },
  {
   "cell_type": "code",
   "execution_count": 14,
   "id": "f00fdbb7",
   "metadata": {
    "scrolled": true
   },
   "outputs": [
    {
     "data": {
      "text/plain": [
       "GridSearchCV(cv=10, estimator=MLPClassifier(random_state=42), n_jobs=-1,\n",
       "             param_grid={'hidden_layer_sizes': [(1,), (2,), (3,)]},\n",
       "             return_train_score=True)"
      ]
     },
     "execution_count": 14,
     "metadata": {},
     "output_type": "execute_result"
    }
   ],
   "source": [
    "# Find best hyperparameter again since we have new input.\n",
    "params = {'hidden_layer_sizes': [(x,) for x in range(1, 4, 1)]}\n",
    "\n",
    "cvNNselect = GridSearchCV(param_grid=params, estimator=MLPClassifier(random_state=42),return_train_score=True, cv=10, n_jobs=-1)\n",
    "cvNNselect.fit(X_train_sel_model, y_train)"
   ]
  },
  {
   "cell_type": "code",
   "execution_count": 15,
   "id": "edf55f85",
   "metadata": {},
   "outputs": [
    {
     "name": "stdout",
     "output_type": "stream",
     "text": [
      "{'hidden_layer_sizes': (3,)}\n"
     ]
    }
   ],
   "source": [
    "print(cvNNselect.best_params_)"
   ]
  },
  {
   "cell_type": "code",
   "execution_count": 16,
   "id": "8edf20ab",
   "metadata": {},
   "outputs": [
    {
     "name": "stdout",
     "output_type": "stream",
     "text": [
      "Train accuracy: 0.8092272457886753\n",
      "Test accuracy: 0.8113486148221066\n",
      "              precision    recall  f1-score   support\n",
      "\n",
      "           0       0.83      0.94      0.89     33101\n",
      "           1       0.65      0.35      0.46      9565\n",
      "\n",
      "    accuracy                           0.81     42666\n",
      "   macro avg       0.74      0.65      0.67     42666\n",
      "weighted avg       0.79      0.81      0.79     42666\n",
      "\n",
      "{'alpha': 0.01, 'hidden_layer_sizes': (5,)}\n"
     ]
    }
   ],
   "source": [
    "# Decision tree feature selection neural network. \n",
    "params = {'hidden_layer_sizes': [(1,),(2,), (3,), (4,), (5,)], 'alpha': [0.01,0.001, 0.0001, 0.00001]}\n",
    "\n",
    "cv_sel_modelNN = GridSearchCV(param_grid=params, estimator=MLPClassifier(random_state=42), cv=10, n_jobs=-1)\n",
    "cv_sel_modelNN.fit(X_train_sel_model, y_train)\n",
    "\n",
    "print(\"Train accuracy:\", cv_sel_modelNN.score(X_train_sel_model, y_train))\n",
    "print(\"Test accuracy:\", cv_sel_modelNN.score(X_test_sel_model, y_test))\n",
    "\n",
    "y_predcv_sel_NN = cv_sel_modelNN.predict(X_test_sel_model)\n",
    "print(classification_report(y_test, y_predcv_sel_NN))\n",
    "\n",
    "print(cv_sel_modelNN.best_params_)"
   ]
  },
  {
   "cell_type": "code",
   "execution_count": 17,
   "id": "0e0f56fe",
   "metadata": {},
   "outputs": [
    {
     "name": "stdout",
     "output_type": "stream",
     "text": [
      "ROC index on test for NN_default: 0.8240827969799477\n",
      "ROC index on test for NN with gridsearch 1: 0.8148083769592829\n",
      "ROC index on test for NN with gridsearch 2: 0.8150829172694897\n",
      "ROC index on test for NN with feature selection (model selection) and gridsearch: 0.8031407540984078\n"
     ]
    }
   ],
   "source": [
    "from sklearn.metrics import roc_auc_score\n",
    "\n",
    "y_pred_proba_nn_1 = modelNN.predict_proba(X_test)\n",
    "y_pred_proba_cv_1 = cvNN.predict_proba(X_test)\n",
    "y_pred_proba_cv_2 = cvNN1.predict_proba(X_test)\n",
    "y_pred_proba_cv_sel_model = cv_sel_modelNN.predict_proba(X_test_sel_model)\n",
    "\n",
    "\n",
    "roc_index_nn_1 = roc_auc_score(y_test, y_pred_proba_nn_1[:, 1])\n",
    "roc_index_cv_1 = roc_auc_score(y_test, y_pred_proba_cv_1[:, 1])\n",
    "roc_index_cv_2 = roc_auc_score(y_test, y_pred_proba_cv_2[:, 1])\n",
    "roc_index_cv_sel_model = roc_auc_score(y_test, y_pred_proba_cv_sel_model[:, 1])\n",
    "\n",
    "\n",
    "print(\"ROC index on test for NN_default:\", roc_index_nn_1)\n",
    "print(\"ROC index on test for NN with gridsearch 1:\", roc_index_cv_1)\n",
    "print(\"ROC index on test for NN with gridsearch 2:\", roc_index_cv_2)\n",
    "print(\"ROC index on test for NN with feature selection (model selection) and gridsearch:\", roc_index_cv_sel_model)\n",
    "\n",
    "from sklearn.metrics import roc_curve\n",
    "\n",
    "fpr_nn_1, tpr_nn_1, thresholds_nn_1 = roc_curve(y_test, y_pred_proba_nn_1[:,1])\n",
    "fpr_cv_1, tpr_cv_1, thresholds_cv_1 = roc_curve(y_test, y_pred_proba_cv_1[:,1])\n",
    "fpr_cv_2, tpr_cv_2, thresholds_cv_2 = roc_curve(y_test, y_pred_proba_cv_2[:,1])\n",
    "fpr_cv_sel_model, tpr_cv_sel_model, thresholds_cv_sel_model = roc_curve(y_test, y_pred_proba_cv_sel_model[:,1])"
   ]
  },
  {
   "cell_type": "code",
   "execution_count": 18,
   "id": "4cf9e2ab",
   "metadata": {},
   "outputs": [
    {
     "data": {
      "image/png": "[encoded data removed]",
      "text/plain": [
       "<Figure size 432x288 with 1 Axes>"
      ]
     },
     "metadata": {
      "needs_background": "light"
     },
     "output_type": "display_data"
    }
   ],
   "source": [
    "import matplotlib.pyplot as plt\n",
    "\n",
    "plt.plot(fpr_nn_1, tpr_nn_1, label='NN_default {:.3f}'.format(roc_index_nn_1), color='red', lw=0.5)\n",
    "plt.plot(fpr_cv_1, tpr_cv_1, label='NN cv_1 {:.3f}'.format(roc_index_cv_1), color='blue', lw=0.5)\n",
    "plt.plot(fpr_cv_2, tpr_cv_2, label='NN cv_2 {:.3f}'.format(roc_index_cv_2), color='yellow', lw=0.5)\n",
    "plt.plot(fpr_cv_sel_model, tpr_cv_sel_model, label='NN with cv_sel_model {:.3f}'.format(roc_index_cv_sel_model), \n",
    "         color='black', lw=0.5)\n",
    "\n",
    "\n",
    "plt.plot([0, 1], [0, 1], color='navy', lw=0.5, linestyle='--')\n",
    "plt.xlim([0.0, 1.0])\n",
    "plt.ylim([0.0, 1.0])\n",
    "plt.xlabel('False Positive Rate')\n",
    "plt.ylabel('True Positive Rate')\n",
    "plt.title('Receiver operating characteristic example')\n",
    "plt.legend(loc=\"lower right\")\n",
    "plt.show()"
   ]
  },
  {
   "cell_type": "code",
   "execution_count": 19,
   "id": "3b70dfc1",
   "metadata": {},
   "outputs": [
    {
     "data": {
      "image/png": "[encoded data removed]",
      "text/plain": [
       "<Figure size 432x288 with 1 Axes>"
      ]
     },
     "metadata": {
      "needs_background": "light"
     },
     "output_type": "display_data"
    }
   ],
   "source": [
    "import pickle\n",
    "with open('DT.pickle', 'rb') as f:\n",
    "    dt_best,roc_index_dt_cv, fpr_dt_cv, tpr_dt_cv = pickle.load(f)\n",
    "with open('LR.pickle', 'rb') as f:\n",
    "    lr_best,roc_index_lr_cv, fpr_lr_cv, tpr_lr_cv = pickle.load(f)   \n",
    "    \n",
    "\n",
    "plt.plot(fpr_dt_cv, tpr_dt_cv, label='DT_cv {:.3f}'.format(roc_index_dt_cv), color='red', lw=0.5)\n",
    "plt.plot(fpr_lr_cv, tpr_lr_cv, label='LR_cv {:.3f}'.format(roc_index_lr_cv), color='green', lw=0.5)\n",
    "plt.plot(fpr_nn_1, tpr_nn_1, label='NN_default {:.3f}'.format(roc_index_nn_1), color='blue', lw=0.5)\n",
    "\n",
    "plt.plot([0, 1], [0, 1], color='navy', lw=0.5, linestyle='--')\n",
    "plt.xlim([0.0, 1.0])\n",
    "plt.ylim([0.0, 1.0])\n",
    "plt.xlabel('False Positive Rate')\n",
    "plt.ylabel('True Positive Rate')\n",
    "plt.title('Receiver operating characteristic example')\n",
    "plt.legend(loc=\"lower right\")\n",
    "plt.show() "
   ]
  }
 ],
 "metadata": {
  "kernelspec": {
   "display_name": "Python 3",
   "language": "python",
   "name": "python3"
  },
  "language_info": {
   "codemirror_mode": {
    "name": "ipython",
    "version": 3
   },
   "file_extension": ".py",
   "mimetype": "text/x-python",
   "name": "python",
   "nbconvert_exporter": "python",
   "pygments_lexer": "ipython3",
   "version": "3.8.2"
  }
 },
 "nbformat": 4,
 "nbformat_minor": 5
}
