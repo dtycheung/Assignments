{
 "cells": [
  {
   "cell_type": "markdown",
   "metadata": {},
   "source": [
    "# Assoication Mining"
   ]
  },
  {
   "cell_type": "code",
   "execution_count": 1,
   "metadata": {},
   "outputs": [
    {
     "name": "stdout",
     "output_type": "stream",
     "text": [
      "<class 'pandas.core.frame.DataFrame'>\n",
      "RangeIndex: 19663 entries, 0 to 19662\n",
      "Data columns (total 8 columns):\n",
      " #   Column       Non-Null Count  Dtype  \n",
      "---  ------       --------------  -----  \n",
      " 0   InvoiceNo    19663 non-null  int64  \n",
      " 1   StockCode    19663 non-null  object \n",
      " 2   Description  19075 non-null  object \n",
      " 3   Quantity     19663 non-null  int64  \n",
      " 4   InvoiceDate  19663 non-null  object \n",
      " 5   UnitPrice    19663 non-null  float64\n",
      " 6   CustomerID   15678 non-null  float64\n",
      " 7   Country      19663 non-null  object \n",
      "dtypes: float64(2), int64(2), object(4)\n",
      "memory usage: 1.2+ MB\n",
      "None\n",
      "   InvoiceNo StockCode                         Description  Quantity  \\\n",
      "0     536365    85123A  WHITE HANGING HEART T-LIGHT HOLDER         6   \n",
      "1     536367     84879       ASSORTED COLOUR BIRD ORNAMENT        32   \n",
      "2     536373    85123A  WHITE HANGING HEART T-LIGHT HOLDER         6   \n",
      "3     536375    85123A  WHITE HANGING HEART T-LIGHT HOLDER         6   \n",
      "4     536378     22386             JUMBO BAG PINK POLKADOT        10   \n",
      "5     536378     20725             LUNCH BAG RED RETROSPOT        10   \n",
      "6     536378     21212     PACK OF 72 RETROSPOT CAKE CASES       120   \n",
      "7     536384     22457     NATURAL SLATE HEART CHALKBOARD         12   \n",
      "8     536384     22469               HEART OF WICKER SMALL        40   \n",
      "9     536386    85099B             JUMBO BAG RED RETROSPOT       100   \n",
      "\n",
      "      InvoiceDate  UnitPrice  CustomerID         Country  \n",
      "0  1/12/2010 8:26       2.55     17850.0  United Kingdom  \n",
      "1  1/12/2010 8:34       1.69     13047.0  United Kingdom  \n",
      "2  1/12/2010 9:02       2.55     17850.0  United Kingdom  \n",
      "3  1/12/2010 9:32       2.55     17850.0  United Kingdom  \n",
      "4  1/12/2010 9:37       1.95     14688.0  United Kingdom  \n",
      "5  1/12/2010 9:37       1.65     14688.0  United Kingdom  \n",
      "6  1/12/2010 9:37       0.42     14688.0  United Kingdom  \n",
      "7  1/12/2010 9:53       2.95     18074.0  United Kingdom  \n",
      "8  1/12/2010 9:53       1.45     18074.0  United Kingdom  \n",
      "9  1/12/2010 9:57       1.65     16029.0  United Kingdom  \n"
     ]
    }
   ],
   "source": [
    "import pandas as pd\n",
    "\n",
    "# load the bank transaction dataset\n",
    "df = pd.read_csv('D1.csv')\n",
    "\n",
    "# info and the first 10 transactions\n",
    "print(df.info())\n",
    "print(df.head(10))"
   ]
  },
  {
   "cell_type": "code",
   "execution_count": 2,
   "metadata": {},
   "outputs": [],
   "source": [
    "df[\"InvoiceDate\"]=df[\"InvoiceDate\"].astype(\"datetime64\")\n",
    "df[\"CustomerID\"]=df[\"CustomerID\"].astype(\"object\")"
   ]
  },
  {
   "cell_type": "code",
   "execution_count": 3,
   "metadata": {},
   "outputs": [
    {
     "name": "stdout",
     "output_type": "stream",
     "text": [
      "<class 'pandas.core.frame.DataFrame'>\n",
      "RangeIndex: 19663 entries, 0 to 19662\n",
      "Data columns (total 8 columns):\n",
      " #   Column       Non-Null Count  Dtype         \n",
      "---  ------       --------------  -----         \n",
      " 0   InvoiceNo    19663 non-null  int64         \n",
      " 1   StockCode    19663 non-null  object        \n",
      " 2   Description  19075 non-null  object        \n",
      " 3   Quantity     19663 non-null  int64         \n",
      " 4   InvoiceDate  19663 non-null  datetime64[ns]\n",
      " 5   UnitPrice    19663 non-null  float64       \n",
      " 6   CustomerID   15678 non-null  object        \n",
      " 7   Country      19663 non-null  object        \n",
      "dtypes: datetime64[ns](1), float64(1), int64(2), object(4)\n",
      "memory usage: 1.2+ MB\n",
      "None\n",
      "   InvoiceNo StockCode                         Description  Quantity  \\\n",
      "0     536365    85123A  WHITE HANGING HEART T-LIGHT HOLDER         6   \n",
      "1     536367     84879       ASSORTED COLOUR BIRD ORNAMENT        32   \n",
      "2     536373    85123A  WHITE HANGING HEART T-LIGHT HOLDER         6   \n",
      "3     536375    85123A  WHITE HANGING HEART T-LIGHT HOLDER         6   \n",
      "4     536378     22386             JUMBO BAG PINK POLKADOT        10   \n",
      "5     536378     20725             LUNCH BAG RED RETROSPOT        10   \n",
      "6     536378     21212     PACK OF 72 RETROSPOT CAKE CASES       120   \n",
      "7     536384     22457     NATURAL SLATE HEART CHALKBOARD         12   \n",
      "8     536384     22469               HEART OF WICKER SMALL        40   \n",
      "9     536386    85099B             JUMBO BAG RED RETROSPOT       100   \n",
      "\n",
      "          InvoiceDate  UnitPrice CustomerID         Country  \n",
      "0 2010-01-12 08:26:00       2.55    17850.0  United Kingdom  \n",
      "1 2010-01-12 08:34:00       1.69    13047.0  United Kingdom  \n",
      "2 2010-01-12 09:02:00       2.55    17850.0  United Kingdom  \n",
      "3 2010-01-12 09:32:00       2.55    17850.0  United Kingdom  \n",
      "4 2010-01-12 09:37:00       1.95    14688.0  United Kingdom  \n",
      "5 2010-01-12 09:37:00       1.65    14688.0  United Kingdom  \n",
      "6 2010-01-12 09:37:00       0.42    14688.0  United Kingdom  \n",
      "7 2010-01-12 09:53:00       2.95    18074.0  United Kingdom  \n",
      "8 2010-01-12 09:53:00       1.45    18074.0  United Kingdom  \n",
      "9 2010-01-12 09:57:00       1.65    16029.0  United Kingdom  \n"
     ]
    }
   ],
   "source": [
    "# info and the first 10 transactions\n",
    "print(df.info())\n",
    "print(df.head(10))"
   ]
  },
  {
   "cell_type": "code",
   "execution_count": 4,
   "metadata": {},
   "outputs": [],
   "source": [
    "df.dropna(subset=['Description'], inplace=True)"
   ]
  },
  {
   "cell_type": "code",
   "execution_count": 5,
   "metadata": {},
   "outputs": [
    {
     "name": "stdout",
     "output_type": "stream",
     "text": [
      "['85123A' '84879' '22386' '20725' '21212' '22457' '22469' '85099B' '20727'\n",
      " '22423' '47566' '85123a' '22720']\n",
      "['WHITE HANGING HEART T-LIGHT HOLDER' 'ASSORTED COLOUR BIRD ORNAMENT'\n",
      " 'JUMBO BAG PINK POLKADOT' 'LUNCH BAG RED RETROSPOT'\n",
      " 'PACK OF 72 RETROSPOT CAKE CASES' 'NATURAL SLATE HEART CHALKBOARD '\n",
      " 'HEART OF WICKER SMALL' 'JUMBO BAG RED RETROSPOT'\n",
      " 'LUNCH BAG  BLACK SKULL.' 'REGENCY CAKESTAND 3 TIER' 'PARTY BUNTING'\n",
      " 'SET OF 3 CAKE TINS PANTRY DESIGN ']\n"
     ]
    }
   ],
   "source": [
    "print(df[\"StockCode\"].unique())\n",
    "print(df[\"Description\"].unique())"
   ]
  },
  {
   "cell_type": "code",
   "execution_count": 6,
   "metadata": {},
   "outputs": [],
   "source": [
    "#stock_description_map = {'85123A':'WHITEHEART', '84879':'BIRD', '22386': 'PINKDOT', '20725': 'LUNCHBAG', '21212': 'CAKECASE', '22457': 'CHALKBOARD ', '22469': 'WICKER', '85099B': 'REDDOT', '20727': 'SKULL', '22423': 'CAKESTAND', '47566': 'PARTY', '22720': 'TINS', '85123a': 'WHITEexp'}"
   ]
  },
  {
   "cell_type": "code",
   "execution_count": 7,
   "metadata": {},
   "outputs": [],
   "source": [
    "#df['StockCode'] = df['StockCode'].map(stock_description_map)"
   ]
  },
  {
   "cell_type": "code",
   "execution_count": 293,
   "metadata": {},
   "outputs": [],
   "source": [
    "#df = df.drop('Description', 1)"
   ]
  },
  {
   "cell_type": "code",
   "execution_count": 294,
   "metadata": {},
   "outputs": [],
   "source": [
    "df[\"CustomerID\"].fillna(\"unreg\", inplace =True)"
   ]
  },
  {
   "cell_type": "code",
   "execution_count": 334,
   "metadata": {},
   "outputs": [
    {
     "data": {
      "text/plain": [
       "17841.0    215\n",
       "14911.0    199\n",
       "13089.0    114\n",
       "12748.0    101\n",
       "15039.0     91\n",
       "          ... \n",
       "13601.0      1\n",
       "13600.0      1\n",
       "17694.0      1\n",
       "13592.0      1\n",
       "16384.0      1\n",
       "Name: CustomerID, Length: 2881, dtype: int64"
      ]
     },
     "execution_count": 334,
     "metadata": {},
     "output_type": "execute_result"
    }
   ],
   "source": [
    "df[\"CustomerID\"].value_counts()"
   ]
  },
  {
   "cell_type": "code",
   "execution_count": 8,
   "metadata": {},
   "outputs": [
    {
     "name": "stdout",
     "output_type": "stream",
     "text": [
      "<class 'pandas.core.frame.DataFrame'>\n",
      "Int64Index: 19075 entries, 0 to 19662\n",
      "Data columns (total 8 columns):\n",
      " #   Column       Non-Null Count  Dtype         \n",
      "---  ------       --------------  -----         \n",
      " 0   InvoiceNo    19075 non-null  int64         \n",
      " 1   StockCode    19075 non-null  object        \n",
      " 2   Description  19075 non-null  object        \n",
      " 3   Quantity     19075 non-null  int64         \n",
      " 4   InvoiceDate  19075 non-null  datetime64[ns]\n",
      " 5   UnitPrice    19075 non-null  float64       \n",
      " 6   CustomerID   15678 non-null  object        \n",
      " 7   Country      19075 non-null  object        \n",
      "dtypes: datetime64[ns](1), float64(1), int64(2), object(4)\n",
      "memory usage: 1.3+ MB\n",
      "None\n",
      "    InvoiceNo StockCode                         Description  Quantity  \\\n",
      "0      536365    85123A  WHITE HANGING HEART T-LIGHT HOLDER         6   \n",
      "1      536367     84879       ASSORTED COLOUR BIRD ORNAMENT        32   \n",
      "2      536373    85123A  WHITE HANGING HEART T-LIGHT HOLDER         6   \n",
      "3      536375    85123A  WHITE HANGING HEART T-LIGHT HOLDER         6   \n",
      "4      536378     22386             JUMBO BAG PINK POLKADOT        10   \n",
      "5      536378     20725             LUNCH BAG RED RETROSPOT        10   \n",
      "6      536378     21212     PACK OF 72 RETROSPOT CAKE CASES       120   \n",
      "7      536384     22457     NATURAL SLATE HEART CHALKBOARD         12   \n",
      "8      536384     22469               HEART OF WICKER SMALL        40   \n",
      "9      536386    85099B             JUMBO BAG RED RETROSPOT       100   \n",
      "10     536388     22469               HEART OF WICKER SMALL        12   \n",
      "11     536390    85123A  WHITE HANGING HEART T-LIGHT HOLDER        64   \n",
      "12     536390    85099B             JUMBO BAG RED RETROSPOT       100   \n",
      "\n",
      "           InvoiceDate  UnitPrice CustomerID         Country  \n",
      "0  2010-01-12 08:26:00       2.55    17850.0  United Kingdom  \n",
      "1  2010-01-12 08:34:00       1.69    13047.0  United Kingdom  \n",
      "2  2010-01-12 09:02:00       2.55    17850.0  United Kingdom  \n",
      "3  2010-01-12 09:32:00       2.55    17850.0  United Kingdom  \n",
      "4  2010-01-12 09:37:00       1.95    14688.0  United Kingdom  \n",
      "5  2010-01-12 09:37:00       1.65    14688.0  United Kingdom  \n",
      "6  2010-01-12 09:37:00       0.42    14688.0  United Kingdom  \n",
      "7  2010-01-12 09:53:00       2.95    18074.0  United Kingdom  \n",
      "8  2010-01-12 09:53:00       1.45    18074.0  United Kingdom  \n",
      "9  2010-01-12 09:57:00       1.65    16029.0  United Kingdom  \n",
      "10 2010-01-12 09:59:00       1.65    16250.0  United Kingdom  \n",
      "11 2010-01-12 10:19:00       2.55    17511.0  United Kingdom  \n",
      "12 2010-01-12 10:19:00       1.65    17511.0  United Kingdom  \n"
     ]
    }
   ],
   "source": [
    "print(df.info())\n",
    "print(df.head(13))"
   ]
  },
  {
   "cell_type": "code",
   "execution_count": 49,
   "metadata": {},
   "outputs": [
    {
     "data": {
      "text/plain": [
       "InvoiceNo\n",
       "536365                 [WHITE HANGING HEART T-LIGHT HOLDER]\n",
       "536367                      [ASSORTED COLOUR BIRD ORNAMENT]\n",
       "536373                 [WHITE HANGING HEART T-LIGHT HOLDER]\n",
       "536375                 [WHITE HANGING HEART T-LIGHT HOLDER]\n",
       "536378    [JUMBO BAG PINK POLKADOT, LUNCH BAG RED RETROS...\n",
       "                                ...                        \n",
       "581498    [JUMBO BAG PINK POLKADOT, NATURAL SLATE HEART ...\n",
       "581538    [HEART OF WICKER SMALL, LUNCH BAG  BLACK SKULL...\n",
       "581579                            [JUMBO BAG PINK POLKADOT]\n",
       "581583                            [LUNCH BAG RED RETROSPOT]\n",
       "581585                      [ASSORTED COLOUR BIRD ORNAMENT]\n",
       "Name: Description, Length: 9568, dtype: object"
      ]
     },
     "execution_count": 49,
     "metadata": {},
     "output_type": "execute_result"
    }
   ],
   "source": [
    "transactions"
   ]
  },
  {
   "cell_type": "code",
   "execution_count": 11,
   "metadata": {},
   "outputs": [],
   "source": [
    "from apyori import apriori\n",
    "\n",
    "# type cast the transactions from pandas into normal list format and run apriori\n",
    "transaction_list = list(transactions)\n",
    "results = list(apriori(transaction_list, min_support=0.04, min_confidence = 0.3))\n",
    "\n",
    "# print first 5 rules\n",
    "#print(results[:5])"
   ]
  },
  {
   "cell_type": "code",
   "execution_count": 327,
   "metadata": {},
   "outputs": [
    {
     "name": "stdout",
     "output_type": "stream",
     "text": [
      "Requirement already satisfied: apyori in /Users/chakhochan/opt/anaconda3/lib/python3.8/site-packages (1.1.2)\n",
      "Note: you may need to restart the kernel to use updated packages.\n"
     ]
    }
   ],
   "source": [
    " pip install apyori"
   ]
  },
  {
   "cell_type": "code",
   "execution_count": 10,
   "metadata": {},
   "outputs": [
    {
     "name": "stdout",
     "output_type": "stream",
     "text": [
      "InvoiceNo\n",
      "536365                 [WHITE HANGING HEART T-LIGHT HOLDER]\n",
      "536367                      [ASSORTED COLOUR BIRD ORNAMENT]\n",
      "536373                 [WHITE HANGING HEART T-LIGHT HOLDER]\n",
      "536375                 [WHITE HANGING HEART T-LIGHT HOLDER]\n",
      "536378    [JUMBO BAG PINK POLKADOT, LUNCH BAG RED RETROS...\n",
      "536384    [NATURAL SLATE HEART CHALKBOARD , HEART OF WIC...\n",
      "536386                            [JUMBO BAG RED RETROSPOT]\n",
      "536388                              [HEART OF WICKER SMALL]\n",
      "536390    [WHITE HANGING HEART T-LIGHT HOLDER, JUMBO BAG...\n",
      "536392                      [ASSORTED COLOUR BIRD ORNAMENT]\n",
      "Name: Description, dtype: object\n"
     ]
    }
   ],
   "source": [
    "transactions = df.groupby(['InvoiceNo'])['Description'].apply(list)\n",
    "print(transactions.head(10))"
   ]
  },
  {
   "cell_type": "code",
   "execution_count": 12,
   "metadata": {
    "scrolled": false
   },
   "outputs": [
    {
     "name": "stdout",
     "output_type": "stream",
     "text": [
      "                         Left_side                          Right_side  \\\n",
      "0            HEART OF WICKER SMALL  WHITE HANGING HEART T-LIGHT HOLDER   \n",
      "1          JUMBO BAG PINK POLKADOT             JUMBO BAG RED RETROSPOT   \n",
      "2          JUMBO BAG RED RETROSPOT             JUMBO BAG PINK POLKADOT   \n",
      "3          LUNCH BAG RED RETROSPOT             JUMBO BAG RED RETROSPOT   \n",
      "4          LUNCH BAG  BLACK SKULL.             LUNCH BAG RED RETROSPOT   \n",
      "5          LUNCH BAG RED RETROSPOT             LUNCH BAG  BLACK SKULL.   \n",
      "6  NATURAL SLATE HEART CHALKBOARD   WHITE HANGING HEART T-LIGHT HOLDER   \n",
      "\n",
      "    Support  Confidence      Lift  \n",
      "0  0.040865    0.325562  1.378309  \n",
      "1  0.086225    0.677340  3.097891  \n",
      "2  0.086225    0.394359  3.097891  \n",
      "3  0.060514    0.370205  1.693173  \n",
      "4  0.066994    0.503535  3.080449  \n",
      "5  0.066994    0.409847  3.080449  \n",
      "6  0.043374    0.332266  1.406690  \n"
     ]
    }
   ],
   "source": [
    "def convert_apriori_results_to_pandas_df(results):\n",
    "    rules = []\n",
    "    for rule_set in results:\n",
    "        for rule in rule_set.ordered_statistics:\n",
    "        # items_base = left side of rules, items_add = right side\n",
    "        # support, confidence and lift for respective rules\n",
    "            rules.append([','.join(rule.items_base), ','.join(rule.items_add), rule_set.support, rule.confidence, rule.lift])\n",
    "        \n",
    "    # typecast it to pandas df\n",
    "    return pd.DataFrame(rules, columns=['Left_side', 'Right_side', 'Support', 'Confidence', 'Lift'])\n",
    "\n",
    "result_df = convert_apriori_results_to_pandas_df(results)\n",
    "print(result_df.head(20))"
   ]
  },
  {
   "cell_type": "code",
   "execution_count": 13,
   "metadata": {
    "scrolled": false
   },
   "outputs": [
    {
     "data": {
      "text/html": [
       "<div>\n",
       "<style scoped>\n",
       "    .dataframe tbody tr th:only-of-type {\n",
       "        vertical-align: middle;\n",
       "    }\n",
       "\n",
       "    .dataframe tbody tr th {\n",
       "        vertical-align: top;\n",
       "    }\n",
       "\n",
       "    .dataframe thead th {\n",
       "        text-align: right;\n",
       "    }\n",
       "</style>\n",
       "<table border=\"1\" class=\"dataframe\">\n",
       "  <thead>\n",
       "    <tr style=\"text-align: right;\">\n",
       "      <th></th>\n",
       "      <th>Left_side</th>\n",
       "      <th>Right_side</th>\n",
       "      <th>Support</th>\n",
       "      <th>Confidence</th>\n",
       "      <th>Lift</th>\n",
       "    </tr>\n",
       "  </thead>\n",
       "  <tbody>\n",
       "    <tr>\n",
       "      <th>1</th>\n",
       "      <td>JUMBO BAG PINK POLKADOT</td>\n",
       "      <td>JUMBO BAG RED RETROSPOT</td>\n",
       "      <td>0.086225</td>\n",
       "      <td>0.677340</td>\n",
       "      <td>3.097891</td>\n",
       "    </tr>\n",
       "    <tr>\n",
       "      <th>2</th>\n",
       "      <td>JUMBO BAG RED RETROSPOT</td>\n",
       "      <td>JUMBO BAG PINK POLKADOT</td>\n",
       "      <td>0.086225</td>\n",
       "      <td>0.394359</td>\n",
       "      <td>3.097891</td>\n",
       "    </tr>\n",
       "    <tr>\n",
       "      <th>4</th>\n",
       "      <td>LUNCH BAG  BLACK SKULL.</td>\n",
       "      <td>LUNCH BAG RED RETROSPOT</td>\n",
       "      <td>0.066994</td>\n",
       "      <td>0.503535</td>\n",
       "      <td>3.080449</td>\n",
       "    </tr>\n",
       "    <tr>\n",
       "      <th>5</th>\n",
       "      <td>LUNCH BAG RED RETROSPOT</td>\n",
       "      <td>LUNCH BAG  BLACK SKULL.</td>\n",
       "      <td>0.066994</td>\n",
       "      <td>0.409847</td>\n",
       "      <td>3.080449</td>\n",
       "    </tr>\n",
       "    <tr>\n",
       "      <th>3</th>\n",
       "      <td>LUNCH BAG RED RETROSPOT</td>\n",
       "      <td>JUMBO BAG RED RETROSPOT</td>\n",
       "      <td>0.060514</td>\n",
       "      <td>0.370205</td>\n",
       "      <td>1.693173</td>\n",
       "    </tr>\n",
       "    <tr>\n",
       "      <th>6</th>\n",
       "      <td>NATURAL SLATE HEART CHALKBOARD</td>\n",
       "      <td>WHITE HANGING HEART T-LIGHT HOLDER</td>\n",
       "      <td>0.043374</td>\n",
       "      <td>0.332266</td>\n",
       "      <td>1.406690</td>\n",
       "    </tr>\n",
       "    <tr>\n",
       "      <th>0</th>\n",
       "      <td>HEART OF WICKER SMALL</td>\n",
       "      <td>WHITE HANGING HEART T-LIGHT HOLDER</td>\n",
       "      <td>0.040865</td>\n",
       "      <td>0.325562</td>\n",
       "      <td>1.378309</td>\n",
       "    </tr>\n",
       "  </tbody>\n",
       "</table>\n",
       "</div>"
      ],
      "text/plain": [
       "                         Left_side                          Right_side  \\\n",
       "1          JUMBO BAG PINK POLKADOT             JUMBO BAG RED RETROSPOT   \n",
       "2          JUMBO BAG RED RETROSPOT             JUMBO BAG PINK POLKADOT   \n",
       "4          LUNCH BAG  BLACK SKULL.             LUNCH BAG RED RETROSPOT   \n",
       "5          LUNCH BAG RED RETROSPOT             LUNCH BAG  BLACK SKULL.   \n",
       "3          LUNCH BAG RED RETROSPOT             JUMBO BAG RED RETROSPOT   \n",
       "6  NATURAL SLATE HEART CHALKBOARD   WHITE HANGING HEART T-LIGHT HOLDER   \n",
       "0            HEART OF WICKER SMALL  WHITE HANGING HEART T-LIGHT HOLDER   \n",
       "\n",
       "    Support  Confidence      Lift  \n",
       "1  0.086225    0.677340  3.097891  \n",
       "2  0.086225    0.394359  3.097891  \n",
       "4  0.066994    0.503535  3.080449  \n",
       "5  0.066994    0.409847  3.080449  \n",
       "3  0.060514    0.370205  1.693173  \n",
       "6  0.043374    0.332266  1.406690  \n",
       "0  0.040865    0.325562  1.378309  "
      ]
     },
     "metadata": {},
     "output_type": "display_data"
    }
   ],
   "source": [
    "# sort all acquired rules descending by lift\n",
    "result_df = result_df.sort_values(by='Lift', ascending=False)\n",
    "display(result_df.head(10))"
   ]
  },
  {
   "cell_type": "code",
   "execution_count": null,
   "metadata": {},
   "outputs": [],
   "source": []
  },
  {
   "cell_type": "code",
   "execution_count": 14,
   "metadata": {},
   "outputs": [
    {
     "name": "stdout",
     "output_type": "stream",
     "text": [
      "[['WHITE HANGING HEART T-LIGHT HOLDER'], ['ASSORTED COLOUR BIRD ORNAMENT'], ['WHITE HANGING HEART T-LIGHT HOLDER'], ['WHITE HANGING HEART T-LIGHT HOLDER'], ['JUMBO BAG PINK POLKADOT', 'LUNCH BAG RED RETROSPOT', 'PACK OF 72 RETROSPOT CAKE CASES'], ['NATURAL SLATE HEART CHALKBOARD ', 'HEART OF WICKER SMALL'], ['JUMBO BAG RED RETROSPOT']]\n"
     ]
    }
   ],
   "source": [
    "transactions = df.groupby(['InvoiceNo'])['Description'].apply(list)\n",
    "sequences = transactions.values.tolist()\n",
    "\n",
    "# show the first 5 sequences\n",
    "print(sequences[:7])"
   ]
  },
  {
   "cell_type": "code",
   "execution_count": 15,
   "metadata": {},
   "outputs": [],
   "source": [
    "from collections import defaultdict\n",
    "import subprocess\n",
    "import re\n",
    "\n",
    "''' Uses SPMF to find association rules in supplied transactions '''\n",
    "def get_association_rules(sequences, min_sup, min_conf):\n",
    "    # step 1: create required input for SPMF\n",
    "    \n",
    "    # prepare a dict to uniquely assign each item in the transactions to an int ID\n",
    "    item_dict = defaultdict(int)\n",
    "    output_dict = defaultdict(str)\n",
    "    item_id = 1\n",
    "    \n",
    "    # write your sequences in SPMF format\n",
    "    with open('seq_rule_input.txt', 'w+') as f:\n",
    "        for sequence in sequences:\n",
    "            z = []\n",
    "            for itemset in sequence:\n",
    "                # if there are multiple items in one itemset\n",
    "                if isinstance(itemset, list):\n",
    "                    for item in itemset:\n",
    "                        if item not in item_dict:\n",
    "                            item_dict[item] = item_id\n",
    "                            item_id += 1\n",
    "\n",
    "                        z.append(item_dict[item])\n",
    "                else:\n",
    "                    if itemset not in item_dict:\n",
    "                        item_dict[itemset] = item_id\n",
    "                        output_dict[str(item_id)] = itemset\n",
    "                        item_id += 1\n",
    "                    z.append(item_dict[itemset])\n",
    "                    \n",
    "                # end of itemset\n",
    "                z.append(-1)\n",
    "            \n",
    "            # end of a sequence\n",
    "            z.append(-2)\n",
    "            f.write(' '.join([str(x) for x in z]))\n",
    "            f.write('\\n')\n",
    "    \n",
    "    # run SPMF with supplied parameters\n",
    "    supp_param = '{}%'.format(int(min_sup * 100))\n",
    "    conf_param = '{}%'.format(int(min_conf * 100))\n",
    "    subprocess.call(['java', '-jar', 'spmf.jar', 'run', 'RuleGrowth', \n",
    "                     'seq_rule_input.txt', 'seq_rule_output.txt', \n",
    "                     supp_param, conf_param], shell=True)\n",
    "    \n",
    "    # read back the output rules\n",
    "    outputs = open('seq_rule_output.txt', 'r').read().strip().split('\\n')\n",
    "    output_rules = []\n",
    "    for rule in outputs:\n",
    "        left, right, sup, conf = re.search(pattern=r'([0-9\\,]+) ==> ([0-9\\,]+) #SUP: ([0-9]+) #CONF: ([0-9\\.]+)', string=rule).groups()\n",
    "        sup = int(sup) / len(sequences)\n",
    "        conf = float(conf)\n",
    "        output_rules.append([[output_dict[x] for x in left.split(',')], [output_dict[x] for x in right.split(',')], sup, conf])\n",
    "    \n",
    "    # return pandas DataFrame\n",
    "    return pd.DataFrame(output_rules, columns = ['Left_rule', 'Right_rule', 'Support', 'Confidence'])"
   ]
  },
  {
   "cell_type": "code",
   "execution_count": 24,
   "metadata": {},
   "outputs": [
    {
     "data": {
      "text/html": [
       "<div>\n",
       "<style scoped>\n",
       "    .dataframe tbody tr th:only-of-type {\n",
       "        vertical-align: middle;\n",
       "    }\n",
       "\n",
       "    .dataframe tbody tr th {\n",
       "        vertical-align: top;\n",
       "    }\n",
       "\n",
       "    .dataframe thead th {\n",
       "        text-align: right;\n",
       "    }\n",
       "</style>\n",
       "<table border=\"1\" class=\"dataframe\">\n",
       "  <thead>\n",
       "    <tr style=\"text-align: right;\">\n",
       "      <th></th>\n",
       "      <th>Left_rule</th>\n",
       "      <th>Right_rule</th>\n",
       "      <th>Support</th>\n",
       "      <th>Confidence</th>\n",
       "    </tr>\n",
       "  </thead>\n",
       "  <tbody>\n",
       "    <tr>\n",
       "      <th>0</th>\n",
       "      <td>[JUMBO BAG RED RETROSPOT]</td>\n",
       "      <td>[WHITE HANGING HEART T-LIGHT HOLDER]</td>\n",
       "      <td>0.033236</td>\n",
       "      <td>0.152008</td>\n",
       "    </tr>\n",
       "    <tr>\n",
       "      <th>1</th>\n",
       "      <td>[JUMBO BAG PINK POLKADOT]</td>\n",
       "      <td>[JUMBO BAG RED RETROSPOT]</td>\n",
       "      <td>0.055393</td>\n",
       "      <td>0.435140</td>\n",
       "    </tr>\n",
       "    <tr>\n",
       "      <th>2</th>\n",
       "      <td>[JUMBO BAG RED RETROSPOT]</td>\n",
       "      <td>[JUMBO BAG PINK POLKADOT]</td>\n",
       "      <td>0.032504</td>\n",
       "      <td>0.148662</td>\n",
       "    </tr>\n",
       "    <tr>\n",
       "      <th>3</th>\n",
       "      <td>[LUNCH BAG RED RETROSPOT]</td>\n",
       "      <td>[JUMBO BAG RED RETROSPOT]</td>\n",
       "      <td>0.030100</td>\n",
       "      <td>0.184143</td>\n",
       "    </tr>\n",
       "    <tr>\n",
       "      <th>4</th>\n",
       "      <td>[JUMBO BAG RED RETROSPOT]</td>\n",
       "      <td>[LUNCH BAG RED RETROSPOT]</td>\n",
       "      <td>0.030623</td>\n",
       "      <td>0.140057</td>\n",
       "    </tr>\n",
       "    <tr>\n",
       "      <th>5</th>\n",
       "      <td>[LUNCH BAG RED RETROSPOT]</td>\n",
       "      <td>[LUNCH BAG  BLACK SKULL.]</td>\n",
       "      <td>0.043792</td>\n",
       "      <td>0.267903</td>\n",
       "    </tr>\n",
       "  </tbody>\n",
       "</table>\n",
       "</div>"
      ],
      "text/plain": [
       "                   Left_rule                            Right_rule   Support  \\\n",
       "0  [JUMBO BAG RED RETROSPOT]  [WHITE HANGING HEART T-LIGHT HOLDER]  0.033236   \n",
       "1  [JUMBO BAG PINK POLKADOT]             [JUMBO BAG RED RETROSPOT]  0.055393   \n",
       "2  [JUMBO BAG RED RETROSPOT]             [JUMBO BAG PINK POLKADOT]  0.032504   \n",
       "3  [LUNCH BAG RED RETROSPOT]             [JUMBO BAG RED RETROSPOT]  0.030100   \n",
       "4  [JUMBO BAG RED RETROSPOT]             [LUNCH BAG RED RETROSPOT]  0.030623   \n",
       "5  [LUNCH BAG RED RETROSPOT]             [LUNCH BAG  BLACK SKULL.]  0.043792   \n",
       "\n",
       "   Confidence  \n",
       "0    0.152008  \n",
       "1    0.435140  \n",
       "2    0.148662  \n",
       "3    0.184143  \n",
       "4    0.140057  \n",
       "5    0.267903  "
      ]
     },
     "execution_count": 24,
     "metadata": {},
     "output_type": "execute_result"
    }
   ],
   "source": [
    "get_association_rules(sequences, 0.03, 0.3)"
   ]
  },
  {
   "cell_type": "code",
   "execution_count": null,
   "metadata": {},
   "outputs": [],
   "source": []
  }
 ],
 "metadata": {
  "kernelspec": {
   "display_name": "Python 3",
   "language": "python",
   "name": "python3"
  },
  "language_info": {
   "codemirror_mode": {
    "name": "ipython",
    "version": 3
   },
   "file_extension": ".py",
   "mimetype": "text/x-python",
   "name": "python",
   "nbconvert_exporter": "python",
   "pygments_lexer": "ipython3",
   "version": "3.8.2"
  }
 },
 "nbformat": 4,
 "nbformat_minor": 2
}
